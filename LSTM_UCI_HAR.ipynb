{
  "nbformat": 4,
  "nbformat_minor": 0,
  "metadata": {
    "colab": {
      "provenance": [],
      "collapsed_sections": [
        "qL0K8Z91OMxx",
        "ELwgzDfGFXvr",
        "fQFlVvECeZsD",
        "K8AysLBAqF82",
        "G9DiYhr9Yj-p",
        "uawPxD41yGuK",
        "FpY1h4DZvHmc",
        "3aQRTc6n7-hi",
        "aBJu19_uvqWW",
        "M0kdPP07wPfh",
        "QBd6Nu1Y_bJc",
        "IHsQ623pOs3J",
        "DY5JMY1Yftsr",
        "mbpEEA0g1-Be",
        "B_LljZFVAFPA",
        "lpJ3wtyctQJH",
        "BrHQCv7q7LF_",
        "uC2GhaXfA8vC"
      ]
    },
    "kernelspec": {
      "name": "python3",
      "display_name": "Python 3"
    },
    "language_info": {
      "name": "python"
    },
    "accelerator": "GPU",
    "gpuClass": "standard"
  },
  "cells": [
    {
      "cell_type": "markdown",
      "source": [
        "# **Google Drive**"
      ],
      "metadata": {
        "id": "qL0K8Z91OMxx"
      }
    },
    {
      "cell_type": "code",
      "source": [
        "from google.colab import drive\n",
        "drive.mount('/content/drive')"
      ],
      "metadata": {
        "id": "15iVUBqk9Fyo"
      },
      "execution_count": null,
      "outputs": []
    },
    {
      "cell_type": "markdown",
      "source": [
        "##**GPU**"
      ],
      "metadata": {
        "id": "ubp9lSqgJUx7"
      }
    },
    {
      "cell_type": "markdown",
      "source": [
        "jupyter notebook --NotebookApp.allow_origin='https://colab.research.google.com' --port=4000 --NotebookApp.port_retries=0"
      ],
      "metadata": {
        "id": "qMUndHRpXT6B"
      }
    },
    {
      "cell_type": "code",
      "source": [
        "!nvidia-smi"
      ],
      "metadata": {
        "id": "FvB2dRFFJZqK"
      },
      "execution_count": null,
      "outputs": []
    },
    {
      "cell_type": "markdown",
      "source": [
        "# **Install**"
      ],
      "metadata": {
        "id": "ELwgzDfGFXvr"
      }
    },
    {
      "cell_type": "code",
      "source": [
        "!pip install torchmetrics"
      ],
      "metadata": {
        "id": "dQ9OIgAs4iWa",
        "colab": {
          "base_uri": "https://localhost:8080/"
        },
        "outputId": "68b7d0ce-d20a-4f83-df75-4946c4b57587"
      },
      "execution_count": null,
      "outputs": [
        {
          "output_type": "stream",
          "name": "stdout",
          "text": [
            "Requirement already satisfied: torchmetrics in c:\\users\\pc\\anaconda3\\envs\\howsam-deep\\lib\\site-packages (0.9.3)\n",
            "Requirement already satisfied: packaging in c:\\users\\pc\\anaconda3\\envs\\howsam-deep\\lib\\site-packages (from torchmetrics) (21.3)\n"
          ]
        },
        {
          "output_type": "stream",
          "name": "stderr",
          "text": [
            "WARNING: Retrying (Retry(total=4, connect=None, read=None, redirect=None, status=None)) after connection broken by 'ProxyError('Cannot connect to proxy.', NewConnectionError('<pip._vendor.urllib3.connection.HTTPSConnection object at 0x0000026A7778ABE0>: Failed to establish a new connection: [WinError 10061] No connection could be made because the target machine actively refused it'))': /simple/numpy/\n",
            "ERROR: Exception:\n",
            "Traceback (most recent call last):\n",
            "  File \"C:\\Users\\PC\\anaconda3\\envs\\howsam-deep\\lib\\site-packages\\pip\\_internal\\cli\\base_command.py\", line 173, in _main\n",
            "    status = self.run(options, args)\n",
            "  File \"C:\\Users\\PC\\anaconda3\\envs\\howsam-deep\\lib\\site-packages\\pip\\_internal\\cli\\req_command.py\", line 203, in wrapper\n",
            "    return func(self, options, args)\n",
            "  File \"C:\\Users\\PC\\anaconda3\\envs\\howsam-deep\\lib\\site-packages\\pip\\_internal\\commands\\install.py\", line 315, in run\n",
            "    requirement_set = resolver.resolve(\n",
            "  File \"C:\\Users\\PC\\anaconda3\\envs\\howsam-deep\\lib\\site-packages\\pip\\_internal\\resolution\\resolvelib\\resolver.py\", line 94, in resolve\n",
            "    result = self._result = resolver.resolve(\n",
            "  File \"C:\\Users\\PC\\anaconda3\\envs\\howsam-deep\\lib\\site-packages\\pip\\_vendor\\resolvelib\\resolvers.py\", line 472, in resolve\n",
            "    state = resolution.resolve(requirements, max_rounds=max_rounds)\n",
            "  File \"C:\\Users\\PC\\anaconda3\\envs\\howsam-deep\\lib\\site-packages\\pip\\_vendor\\resolvelib\\resolvers.py\", line 366, in resolve\n",
            "    failure_causes = self._attempt_to_pin_criterion(name)\n",
            "  File \"C:\\Users\\PC\\anaconda3\\envs\\howsam-deep\\lib\\site-packages\\pip\\_vendor\\resolvelib\\resolvers.py\", line 212, in _attempt_to_pin_criterion\n",
            "    criteria = self._get_updated_criteria(candidate)\n",
            "  File \"C:\\Users\\PC\\anaconda3\\envs\\howsam-deep\\lib\\site-packages\\pip\\_vendor\\resolvelib\\resolvers.py\", line 203, in _get_updated_criteria\n",
            "    self._add_to_criteria(criteria, requirement, parent=candidate)\n",
            "  File \"C:\\Users\\PC\\anaconda3\\envs\\howsam-deep\\lib\\site-packages\\pip\\_vendor\\resolvelib\\resolvers.py\", line 172, in _add_to_criteria\n",
            "    if not criterion.candidates:\n",
            "  File \"C:\\Users\\PC\\anaconda3\\envs\\howsam-deep\\lib\\site-packages\\pip\\_vendor\\resolvelib\\structs.py\", line 151, in __bool__\n",
            "    return bool(self._sequence)\n",
            "  File \"C:\\Users\\PC\\anaconda3\\envs\\howsam-deep\\lib\\site-packages\\pip\\_internal\\resolution\\resolvelib\\found_candidates.py\", line 140, in __bool__\n",
            "    return any(self)\n",
            "  File \"C:\\Users\\PC\\anaconda3\\envs\\howsam-deep\\lib\\site-packages\\pip\\_internal\\resolution\\resolvelib\\found_candidates.py\", line 128, in <genexpr>\n",
            "    return (c for c in iterator if id(c) not in self._incompatible_ids)\n",
            "  File \"C:\\Users\\PC\\anaconda3\\envs\\howsam-deep\\lib\\site-packages\\pip\\_internal\\resolution\\resolvelib\\found_candidates.py\", line 29, in _iter_built\n",
            "    for version, func in infos:\n",
            "  File \"C:\\Users\\PC\\anaconda3\\envs\\howsam-deep\\lib\\site-packages\\pip\\_internal\\resolution\\resolvelib\\factory.py\", line 272, in iter_index_candidate_infos\n",
            "    result = self._finder.find_best_candidate(\n",
            "  File \"C:\\Users\\PC\\anaconda3\\envs\\howsam-deep\\lib\\site-packages\\pip\\_internal\\index\\package_finder.py\", line 851, in find_best_candidate\n",
            "    candidates = self.find_all_candidates(project_name)\n",
            "  File \"C:\\Users\\PC\\anaconda3\\envs\\howsam-deep\\lib\\site-packages\\pip\\_internal\\index\\package_finder.py\", line 798, in find_all_candidates\n",
            "    page_candidates = list(page_candidates_it)\n",
            "  File \"C:\\Users\\PC\\anaconda3\\envs\\howsam-deep\\lib\\site-packages\\pip\\_internal\\index\\sources.py\", line 134, in page_candidates\n",
            "    yield from self._candidates_from_page(self._link)\n",
            "  File \"C:\\Users\\PC\\anaconda3\\envs\\howsam-deep\\lib\\site-packages\\pip\\_internal\\index\\package_finder.py\", line 758, in process_project_url\n",
            "    html_page = self._link_collector.fetch_page(project_url)\n",
            "  File \"C:\\Users\\PC\\anaconda3\\envs\\howsam-deep\\lib\\site-packages\\pip\\_internal\\index\\collector.py\", line 490, in fetch_page\n",
            "    return _get_html_page(location, session=self.session)\n",
            "  File \"C:\\Users\\PC\\anaconda3\\envs\\howsam-deep\\lib\\site-packages\\pip\\_internal\\index\\collector.py\", line 400, in _get_html_page\n",
            "    resp = _get_html_response(url, session=session)\n",
            "  File \"C:\\Users\\PC\\anaconda3\\envs\\howsam-deep\\lib\\site-packages\\pip\\_internal\\index\\collector.py\", line 115, in _get_html_response\n",
            "    resp = session.get(\n",
            "  File \"C:\\Users\\PC\\anaconda3\\envs\\howsam-deep\\lib\\site-packages\\pip\\_vendor\\requests\\sessions.py\", line 555, in get\n",
            "    return self.request('GET', url, **kwargs)\n",
            "  File \"C:\\Users\\PC\\anaconda3\\envs\\howsam-deep\\lib\\site-packages\\pip\\_internal\\network\\session.py\", line 454, in request\n",
            "    return super().request(method, url, *args, **kwargs)\n",
            "  File \"C:\\Users\\PC\\anaconda3\\envs\\howsam-deep\\lib\\site-packages\\pip\\_vendor\\requests\\sessions.py\", line 542, in request\n",
            "    resp = self.send(prep, **send_kwargs)\n",
            "  File \"C:\\Users\\PC\\anaconda3\\envs\\howsam-deep\\lib\\site-packages\\pip\\_vendor\\requests\\sessions.py\", line 655, in send\n",
            "    r = adapter.send(request, **kwargs)\n",
            "  File \"C:\\Users\\PC\\anaconda3\\envs\\howsam-deep\\lib\\site-packages\\pip\\_vendor\\cachecontrol\\adapter.py\", line 53, in send\n",
            "    resp = super(CacheControlAdapter, self).send(request, **kw)\n",
            "  File \"C:\\Users\\PC\\anaconda3\\envs\\howsam-deep\\lib\\site-packages\\pip\\_vendor\\requests\\adapters.py\", line 439, in send\n",
            "    resp = conn.urlopen(\n",
            "  File \"C:\\Users\\PC\\anaconda3\\envs\\howsam-deep\\lib\\site-packages\\pip\\_vendor\\urllib3\\connectionpool.py\", line 783, in urlopen\n",
            "    return self.urlopen(\n",
            "  File \"C:\\Users\\PC\\anaconda3\\envs\\howsam-deep\\lib\\site-packages\\pip\\_vendor\\urllib3\\connectionpool.py\", line 696, in urlopen\n",
            "    self._prepare_proxy(conn)\n",
            "  File \"C:\\Users\\PC\\anaconda3\\envs\\howsam-deep\\lib\\site-packages\\pip\\_vendor\\urllib3\\connectionpool.py\", line 964, in _prepare_proxy\n",
            "    conn.connect()\n",
            "  File \"C:\\Users\\PC\\anaconda3\\envs\\howsam-deep\\lib\\site-packages\\pip\\_vendor\\urllib3\\connection.py\", line 359, in connect\n",
            "    conn = self._connect_tls_proxy(hostname, conn)\n",
            "  File \"C:\\Users\\PC\\anaconda3\\envs\\howsam-deep\\lib\\site-packages\\pip\\_vendor\\urllib3\\connection.py\", line 500, in _connect_tls_proxy\n",
            "    return ssl_wrap_socket(\n",
            "  File \"C:\\Users\\PC\\anaconda3\\envs\\howsam-deep\\lib\\site-packages\\pip\\_vendor\\urllib3\\util\\ssl_.py\", line 453, in ssl_wrap_socket\n",
            "    ssl_sock = _ssl_wrap_socket_impl(sock, context, tls_in_tls)\n",
            "  File \"C:\\Users\\PC\\anaconda3\\envs\\howsam-deep\\lib\\site-packages\\pip\\_vendor\\urllib3\\util\\ssl_.py\", line 495, in _ssl_wrap_socket_impl\n",
            "    return ssl_context.wrap_socket(sock)\n",
            "  File \"C:\\Users\\PC\\anaconda3\\envs\\howsam-deep\\lib\\ssl.py\", line 500, in wrap_socket\n",
            "    return self.sslsocket_class._create(\n",
            "  File \"C:\\Users\\PC\\anaconda3\\envs\\howsam-deep\\lib\\ssl.py\", line 997, in _create\n",
            "    raise ValueError(\"check_hostname requires server_hostname\")\n",
            "ValueError: check_hostname requires server_hostname\n"
          ]
        }
      ]
    },
    {
      "cell_type": "markdown",
      "source": [
        "# **Imports 📢**"
      ],
      "metadata": {
        "id": "fQFlVvECeZsD"
      }
    },
    {
      "cell_type": "code",
      "execution_count": null,
      "metadata": {
        "id": "Jnc2LOc9eRjD"
      },
      "outputs": [],
      "source": [
        "import torch\n",
        "import torch.nn as nn\n",
        "import torch.optim as optim\n",
        "import torch.nn.functional as F\n",
        "from torch.utils.data import TensorDataset, DataLoader, random_split\n",
        "import torch.backends.cudnn as cudnn\n",
        "\n",
        "import torchvision\n",
        "from torchvision.datasets import CIFAR10\n",
        "from torchvision import transforms as T\n",
        "\n",
        "from sklearn.model_selection import train_test_split\n",
        "import matplotlib.pyplot as plt\n",
        "import numpy as np\n",
        "import pandas as pd\n",
        "\n",
        "from torchmetrics import Accuracy\n",
        "from tqdm import tqdm\n",
        "\n",
        "import glob"
      ]
    },
    {
      "cell_type": "markdown",
      "source": [
        "# **LSTM from Scratch 🧿**"
      ],
      "metadata": {
        "id": "K8AysLBAqF82"
      }
    },
    {
      "cell_type": "markdown",
      "source": [
        "![image.png](data:image/png;base64,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)"
      ],
      "metadata": {
        "id": "orn2cT2FkX0p"
      }
    },
    {
      "cell_type": "code",
      "source": [
        "class Gate(nn.Module):\n",
        "\n",
        "  def __init__(self, hidden_size, af):\n",
        "    super().__init__()\n",
        "    self.fch = nn.LazyLinear(hidden_size)\n",
        "    self.fcx = nn.LazyLinear(hidden_size)\n",
        "    self.af = nn.Sigmoid() if af == 'sigmoid' else nn.Tanh()\n",
        "\n",
        "  def forward(self, x, h):\n",
        "    return self.af(self.fcx(x) + self.fch(h))"
      ],
      "metadata": {
        "id": "9NFxMVgHm4L4"
      },
      "execution_count": null,
      "outputs": []
    },
    {
      "cell_type": "code",
      "source": [
        "mygate = Gate(32, 'tanh')\n",
        "mygate"
      ],
      "metadata": {
        "id": "OtAnM1LAoSML"
      },
      "execution_count": null,
      "outputs": []
    },
    {
      "cell_type": "code",
      "source": [
        "mygate(torch.randn(3, 32), torch.randn(3, 24)).shape"
      ],
      "metadata": {
        "id": "Pvj_SSz-pxcN"
      },
      "execution_count": null,
      "outputs": []
    },
    {
      "cell_type": "code",
      "source": [
        "class LSTM(nn.Module):\n",
        "\n",
        "  def __init__(self, hidden_size):\n",
        "    super().__init__()\n",
        "    self.hidden_size = hidden_size\n",
        "    self.forget_gate = Gate(hidden_size, 'sigmoid')\n",
        "    self.input_gate = Gate(hidden_size, 'sigmoid')\n",
        "    self.output_gate = Gate(hidden_size, 'sigmoid')\n",
        "    self.gate = Gate(hidden_size, 'tanh')\n",
        "\n",
        "  def forward(self, x):\n",
        "    ht = torch.zeros(self.hidden_size)\n",
        "    ct = torch.zeros(self.hidden_size)\n",
        "    output = []\n",
        "    #\n",
        "    for t in range(L): #BSxLxF\n",
        "      xt = x[:, t, F]\n",
        "      ft = self.forget_gate(xt, ht)\n",
        "      ct = ct * ft\n",
        "      #\n",
        "      gt = self.gate(xt, ht)\n",
        "      it = self.input_gate(xt, ht)\n",
        "      ct = ct + gt * it\n",
        "      #\n",
        "      ot = self.output_gate(xt, ht)\n",
        "      ht = ot * torch.tanh(ct)\n",
        "      output.append(ht)\n",
        "    return output, ht, ct"
      ],
      "metadata": {
        "id": "Rf1b5WansCja"
      },
      "execution_count": null,
      "outputs": []
    },
    {
      "cell_type": "code",
      "source": [
        "lstm = LSTM(32)\n",
        "lstm"
      ],
      "metadata": {
        "id": "dDgwfXKsvBCR"
      },
      "execution_count": null,
      "outputs": []
    },
    {
      "cell_type": "code",
      "source": [
        "output, ht, ct = lstm(torch.randn(5, 10))"
      ],
      "metadata": {
        "id": "sKO3Akf9vQQA"
      },
      "execution_count": null,
      "outputs": []
    },
    {
      "cell_type": "code",
      "source": [
        "len(output)"
      ],
      "metadata": {
        "id": "sA54tsrmvoV8"
      },
      "execution_count": null,
      "outputs": []
    },
    {
      "cell_type": "code",
      "source": [
        "output[0].shape"
      ],
      "metadata": {
        "id": "GCkoBpZmv12O"
      },
      "execution_count": null,
      "outputs": []
    },
    {
      "cell_type": "markdown",
      "source": [
        "# **Dataset 🗂️**"
      ],
      "metadata": {
        "id": "G9DiYhr9Yj-p"
      }
    },
    {
      "cell_type": "markdown",
      "source": [
        "## Load dataset"
      ],
      "metadata": {
        "id": "uawPxD41yGuK"
      }
    },
    {
      "cell_type": "code",
      "source": [
        "import os\n",
        "os.listdir('./deep-learning-2022-howsam/UCI HAR Dataset/train/Inertial Signals')"
      ],
      "metadata": {
        "colab": {
          "base_uri": "https://localhost:8080/"
        },
        "outputId": "627e33a4-937c-4b58-d9b1-a8d70214d3b0",
        "id": "IRC4mwu3yGuL"
      },
      "execution_count": null,
      "outputs": [
        {
          "output_type": "execute_result",
          "data": {
            "text/plain": [
              "['body_acc_x_train.txt',\n",
              " 'body_acc_y_train.txt',\n",
              " 'body_acc_z_train.txt',\n",
              " 'body_gyro_x_train.txt',\n",
              " 'body_gyro_y_train.txt',\n",
              " 'body_gyro_z_train.txt',\n",
              " 'total_acc_x_train.txt',\n",
              " 'total_acc_y_train.txt',\n",
              " 'total_acc_z_train.txt']"
            ]
          },
          "metadata": {},
          "execution_count": 3
        }
      ]
    },
    {
      "cell_type": "code",
      "source": [
        "train_data = []\n",
        "for file in glob.glob('./deep-learning-2022-howsam/UCI HAR Dataset/train/Inertial Signals/*'):\n",
        "  train_data.append(np.loadtxt(file))"
      ],
      "metadata": {
        "id": "zi_DnXbXyGuL"
      },
      "execution_count": null,
      "outputs": []
    },
    {
      "cell_type": "code",
      "source": [
        "torch.tensor(train_data).permute(1, 2, 0).shape"
      ],
      "metadata": {
        "colab": {
          "base_uri": "https://localhost:8080/"
        },
        "outputId": "a7a54a71-3a80-42a1-cec1-472c9651791f",
        "id": "citlE1sqyGuL"
      },
      "execution_count": null,
      "outputs": [
        {
          "output_type": "stream",
          "name": "stderr",
          "text": [
            "C:\\Users\\PC\\AppData\\Local\\Temp\\ipykernel_7700\\1181097041.py:1: UserWarning: Creating a tensor from a list of numpy.ndarrays is extremely slow. Please consider converting the list to a single numpy.ndarray with numpy.array() before converting to a tensor. (Triggered internally at  C:\\cb\\pytorch_1000000000000\\work\\torch\\csrc\\utils\\tensor_new.cpp:204.)\n",
            "  torch.tensor(train_data).permute(1, 2, 0).shape\n"
          ]
        },
        {
          "output_type": "execute_result",
          "data": {
            "text/plain": [
              "torch.Size([7352, 128, 9])"
            ]
          },
          "metadata": {},
          "execution_count": 5
        }
      ]
    },
    {
      "cell_type": "code",
      "source": [
        "def har_dataset(phase):\n",
        "  x = []\n",
        "  data_dir = f'./deep-learning-2022-howsam/UCI HAR Dataset/{phase}/Inertial Signals/*'\n",
        "  for file_dir in glob.glob(data_dir):\n",
        "    x.append(np.loadtxt(file_dir))\n",
        "  y = np.loadtxt(f'./deep-learning-2022-howsam/UCI HAR Dataset/{phase}/y_{phase}.txt')\n",
        "  #\n",
        "  x = torch.FloatTensor(x).permute(1, 2, 0)\n",
        "  y = torch.LongTensor(y) - 1\n",
        "  return x, y"
      ],
      "metadata": {
        "id": "zeCd4gU-yGuM"
      },
      "execution_count": null,
      "outputs": []
    },
    {
      "cell_type": "code",
      "source": [
        "x_train, y_train = har_dataset('train')\n",
        "x_test, y_test = har_dataset('test')"
      ],
      "metadata": {
        "id": "kHnmTwNByGuM"
      },
      "execution_count": null,
      "outputs": []
    },
    {
      "cell_type": "code",
      "source": [
        "x_train.shape, y_train.shape"
      ],
      "metadata": {
        "colab": {
          "base_uri": "https://localhost:8080/"
        },
        "outputId": "74732558-a38c-44bd-83b7-9e0e1679e6fe",
        "id": "jf5M-CTZyGuM"
      },
      "execution_count": null,
      "outputs": [
        {
          "output_type": "execute_result",
          "data": {
            "text/plain": [
              "(torch.Size([7352, 128, 9]), torch.Size([7352]))"
            ]
          },
          "metadata": {},
          "execution_count": 8
        }
      ]
    },
    {
      "cell_type": "code",
      "source": [
        "x_test.shape, y_test.shape"
      ],
      "metadata": {
        "colab": {
          "base_uri": "https://localhost:8080/"
        },
        "outputId": "250bb98d-591d-46ba-d1d3-5ec8636d2250",
        "id": "t108vHZnyGuM"
      },
      "execution_count": null,
      "outputs": [
        {
          "output_type": "execute_result",
          "data": {
            "text/plain": [
              "(torch.Size([2947, 128, 9]), torch.Size([2947]))"
            ]
          },
          "metadata": {},
          "execution_count": 9
        }
      ]
    },
    {
      "cell_type": "code",
      "source": [
        "y_train"
      ],
      "metadata": {
        "colab": {
          "base_uri": "https://localhost:8080/"
        },
        "outputId": "b9750d62-03de-41a0-e7bc-438f4bfbc425",
        "id": "i7o6b9kcyGuM"
      },
      "execution_count": null,
      "outputs": [
        {
          "output_type": "execute_result",
          "data": {
            "text/plain": [
              "tensor([4, 4, 4,  ..., 1, 1, 1])"
            ]
          },
          "metadata": {},
          "execution_count": 10
        }
      ]
    },
    {
      "cell_type": "code",
      "source": [
        "torch.unique(y_train)"
      ],
      "metadata": {
        "colab": {
          "base_uri": "https://localhost:8080/"
        },
        "outputId": "800fde30-bdf4-4145-f5ad-960ce2a8a035",
        "id": "rCzzfTPZyGuN"
      },
      "execution_count": null,
      "outputs": [
        {
          "output_type": "execute_result",
          "data": {
            "text/plain": [
              "tensor([0, 1, 2, 3, 4, 5])"
            ]
          },
          "metadata": {},
          "execution_count": 11
        }
      ]
    },
    {
      "cell_type": "markdown",
      "source": [
        "## TensorDataset"
      ],
      "metadata": {
        "id": "FpY1h4DZvHmc"
      }
    },
    {
      "cell_type": "code",
      "source": [
        "train_set = TensorDataset(x_train, y_train)\n",
        "test_set = TensorDataset(x_test, y_test)"
      ],
      "metadata": {
        "id": "q-1IcLDEqtzp"
      },
      "execution_count": null,
      "outputs": []
    },
    {
      "cell_type": "markdown",
      "source": [
        "## DataLoader"
      ],
      "metadata": {
        "id": "3aQRTc6n7-hi"
      }
    },
    {
      "cell_type": "code",
      "source": [
        "train_loader = DataLoader(train_set, batch_size=256, shuffle=True)\n",
        "test_loader = DataLoader(test_set, batch_size=256, shuffle=False)"
      ],
      "metadata": {
        "id": "MWf29MbO79gp"
      },
      "execution_count": null,
      "outputs": []
    },
    {
      "cell_type": "code",
      "source": [
        "x, y = next(iter(train_loader))\n",
        "print(x.shape)\n",
        "print(y.shape)"
      ],
      "metadata": {
        "colab": {
          "base_uri": "https://localhost:8080/"
        },
        "id": "gBAeQLxJusuD",
        "outputId": "73e06a20-535c-4596-a35d-3822046e8f0a"
      },
      "execution_count": null,
      "outputs": [
        {
          "output_type": "stream",
          "name": "stdout",
          "text": [
            "torch.Size([256, 128, 9])\n",
            "torch.Size([256])\n"
          ]
        }
      ]
    },
    {
      "cell_type": "markdown",
      "source": [
        "## Visulaize"
      ],
      "metadata": {
        "id": "aBJu19_uvqWW"
      }
    },
    {
      "cell_type": "code",
      "source": [
        "plt.plot(x[0])"
      ],
      "metadata": {
        "colab": {
          "base_uri": "https://localhost:8080/"
        },
        "id": "fg2QaG5EvbRz",
        "outputId": "cab5f960-3c6f-43f9-daad-00695d04ea9f"
      },
      "execution_count": null,
      "outputs": [
        {
          "output_type": "execute_result",
          "data": {
            "text/plain": [
              "[<matplotlib.lines.Line2D at 0x13d90f01df0>,\n",
              " <matplotlib.lines.Line2D at 0x13d90f01ca0>,\n",
              " <matplotlib.lines.Line2D at 0x13d926de9a0>,\n",
              " <matplotlib.lines.Line2D at 0x13d90f09ee0>,\n",
              " <matplotlib.lines.Line2D at 0x13d91a5d040>,\n",
              " <matplotlib.lines.Line2D at 0x13d91a5d160>,\n",
              " <matplotlib.lines.Line2D at 0x13d91a5d280>,\n",
              " <matplotlib.lines.Line2D at 0x13d91a5d3a0>,\n",
              " <matplotlib.lines.Line2D at 0x13d91a5d4c0>]"
            ]
          },
          "metadata": {},
          "execution_count": 15
        },
        {
          "output_type": "display_data",
          "data": {
            "text/plain": [
              "<Figure size 432x288 with 1 Axes>"
            ],
            "image/png": "[encoded data removed]"
          },
          "metadata": {
            "needs_background": "light"
          }
        }
      ]
    },
    {
      "cell_type": "markdown",
      "source": [
        "# **Model 🧠**"
      ],
      "metadata": {
        "id": "-NBcJXJkfgUI"
      }
    },
    {
      "cell_type": "markdown",
      "source": [
        "## RNN"
      ],
      "metadata": {
        "id": "jx-xVNnf-YII"
      }
    },
    {
      "cell_type": "code",
      "source": [
        "class RNNModel(nn.Module):\n",
        "  def __init__(self, RNN, input_size, hidden_size, num_layers, bidirectional, num_cls):\n",
        "    super().__init__()\n",
        "    self.rnn = RNN(input_size=input_size,\n",
        "                      hidden_size=hidden_size,\n",
        "                      num_layers=num_layers,\n",
        "                      bidirectional=bidirectional,\n",
        "                      batch_first=True)\n",
        "    self.fc = nn.LazyLinear(num_cls)\n",
        "\n",
        "  def forward(self, x):\n",
        "    outputs, _ = self.rnn(x)\n",
        "    y = self.fc(outputs) # out: many[:, -1, :]\n",
        "    y = y.mean(dim=1)\n",
        "    return y"
      ],
      "metadata": {
        "id": "Z4rO7cNX-W7I"
      },
      "execution_count": null,
      "outputs": []
    },
    {
      "cell_type": "code",
      "source": [
        "model = RNNModel(nn.LSTM, 9, 32, 1, False, 6)\n",
        "model"
      ],
      "metadata": {
        "colab": {
          "base_uri": "https://localhost:8080/"
        },
        "id": "8xcYmLZT0k2R",
        "outputId": "2c58fda1-c849-4fd0-801d-cec68644bf03"
      },
      "execution_count": null,
      "outputs": [
        {
          "output_type": "execute_result",
          "data": {
            "text/plain": [
              "RNNModel(\n",
              "  (rnn): LSTM(9, 32, batch_first=True)\n",
              "  (fc): LazyLinear(in_features=0, out_features=6, bias=True)\n",
              ")"
            ]
          },
          "metadata": {},
          "execution_count": 47
        }
      ]
    },
    {
      "cell_type": "code",
      "source": [
        "x.shape"
      ],
      "metadata": {
        "colab": {
          "base_uri": "https://localhost:8080/"
        },
        "id": "GV13BG_c83hI",
        "outputId": "da091778-9504-4fda-8e86-5c7c2e0f7609"
      },
      "execution_count": null,
      "outputs": [
        {
          "output_type": "execute_result",
          "data": {
            "text/plain": [
              "torch.Size([256, 128, 9])"
            ]
          },
          "metadata": {},
          "execution_count": 32
        }
      ]
    },
    {
      "cell_type": "code",
      "source": [
        "model(x).shape"
      ],
      "metadata": {
        "colab": {
          "base_uri": "https://localhost:8080/"
        },
        "id": "7hTzbNrt0uq4",
        "outputId": "ce20febc-36eb-4b00-de19-32909a5be7c8"
      },
      "execution_count": null,
      "outputs": [
        {
          "output_type": "execute_result",
          "data": {
            "text/plain": [
              "torch.Size([256, 6])"
            ]
          },
          "metadata": {},
          "execution_count": 34
        }
      ]
    },
    {
      "cell_type": "markdown",
      "source": [
        "## CNN"
      ],
      "metadata": {
        "id": "M0kdPP07wPfh"
      }
    },
    {
      "cell_type": "code",
      "source": [
        "conv1 = nn.Conv1d(9, 32, 3)\n",
        "conv1.weight.shape"
      ],
      "metadata": {
        "colab": {
          "base_uri": "https://localhost:8080/"
        },
        "id": "dXJZQ8ngEozH",
        "outputId": "50fb3cc8-fb08-4837-aad3-341e045d1ef8"
      },
      "execution_count": null,
      "outputs": [
        {
          "output_type": "execute_result",
          "data": {
            "text/plain": [
              "torch.Size([32, 9, 3])"
            ]
          },
          "metadata": {},
          "execution_count": 113
        }
      ]
    },
    {
      "cell_type": "code",
      "source": [
        "x.shape"
      ],
      "metadata": {
        "colab": {
          "base_uri": "https://localhost:8080/"
        },
        "id": "hrncTVS1FJTp",
        "outputId": "e3d68168-b2ce-4b9c-f2b8-f19eba7db33c"
      },
      "execution_count": null,
      "outputs": [
        {
          "output_type": "execute_result",
          "data": {
            "text/plain": [
              "torch.Size([256, 128, 9])"
            ]
          },
          "metadata": {},
          "execution_count": 114
        }
      ]
    },
    {
      "cell_type": "code",
      "source": [
        "conv1(x.permute(0, 2, 1)).shape"
      ],
      "metadata": {
        "colab": {
          "base_uri": "https://localhost:8080/"
        },
        "id": "iXhNPAj8FNti",
        "outputId": "e6f92e88-f0ae-4559-a613-1ea533c9a700"
      },
      "execution_count": null,
      "outputs": [
        {
          "output_type": "execute_result",
          "data": {
            "text/plain": [
              "torch.Size([256, 32, 126])"
            ]
          },
          "metadata": {},
          "execution_count": 117
        }
      ]
    },
    {
      "cell_type": "code",
      "source": [
        "class CNNModel(nn.Module):\n",
        "\n",
        "  def __init__(self, num_filters, kernel_size, num_cls):\n",
        "    super().__init__()\n",
        "\n",
        "    self.conv1 = nn.LazyConv1d(num_filters[0], kernel_size[0], padding=1)\n",
        "    self.bn1 = nn.BatchNorm1d(num_filters[0])\n",
        "\n",
        "    self.conv2 = nn.LazyConv1d(num_filters[1], kernel_size[1], padding=1)\n",
        "    self.bn2 = nn.BatchNorm1d(num_filters[1])\n",
        "\n",
        "    self.pool = nn.MaxPool1d(2, 2)\n",
        "\n",
        "    self.fc = nn.LazyLinear(num_cls)\n",
        "\n",
        "\n",
        "  def forward(self, x):\n",
        "    x = x.permute(0, 2, 1)\n",
        "    #\n",
        "    y = self.bn1(self.conv1(x)).relu()\n",
        "    y = self.bn2(self.conv2(y)).relu()\n",
        "    #\n",
        "    y = self.pool(y)\n",
        "    y = y.flatten(1)\n",
        "    return self.fc(y)"
      ],
      "metadata": {
        "id": "bRpux1W8wWI1"
      },
      "execution_count": null,
      "outputs": []
    },
    {
      "cell_type": "code",
      "source": [
        "model = CNNModel([64, 64], [3, 3], 6)\n",
        "model"
      ],
      "metadata": {
        "colab": {
          "base_uri": "https://localhost:8080/"
        },
        "id": "5Q-R34fIHQna",
        "outputId": "e5c5f765-fb32-4e4c-b804-86e7981a6707"
      },
      "execution_count": null,
      "outputs": [
        {
          "output_type": "stream",
          "name": "stderr",
          "text": [
            "C:\\Users\\PC\\anaconda3\\envs\\howsam-deep\\lib\\site-packages\\torch\\nn\\modules\\lazy.py:178: UserWarning: Lazy modules are a new feature under heavy development so changes to the API or functionality can happen at any moment.\n",
            "  warnings.warn('Lazy modules are a new feature under heavy development '\n"
          ]
        },
        {
          "output_type": "execute_result",
          "data": {
            "text/plain": [
              "CNNModel(\n",
              "  (conv1): LazyConv1d(0, 64, kernel_size=(3,), stride=(1,), padding=(1,))\n",
              "  (bn1): BatchNorm1d(64, eps=1e-05, momentum=0.1, affine=True, track_running_stats=True)\n",
              "  (conv2): LazyConv1d(0, 64, kernel_size=(3,), stride=(1,), padding=(1,))\n",
              "  (bn2): BatchNorm1d(64, eps=1e-05, momentum=0.1, affine=True, track_running_stats=True)\n",
              "  (pool): MaxPool1d(kernel_size=2, stride=2, padding=0, dilation=1, ceil_mode=False)\n",
              "  (fc): LazyLinear(in_features=0, out_features=6, bias=True)\n",
              ")"
            ]
          },
          "metadata": {},
          "execution_count": 131
        }
      ]
    },
    {
      "cell_type": "code",
      "source": [
        "model(x).shape"
      ],
      "metadata": {
        "colab": {
          "base_uri": "https://localhost:8080/"
        },
        "id": "pncgxO1vHbPK",
        "outputId": "dd1c0038-0362-4c21-a3bb-bd422a484be6"
      },
      "execution_count": null,
      "outputs": [
        {
          "output_type": "execute_result",
          "data": {
            "text/plain": [
              "torch.Size([256, 6])"
            ]
          },
          "metadata": {},
          "execution_count": 132
        }
      ]
    },
    {
      "cell_type": "code",
      "source": [
        "64*64*6"
      ],
      "metadata": {
        "colab": {
          "base_uri": "https://localhost:8080/"
        },
        "id": "w6xVI3OnH13-",
        "outputId": "1bb83dc0-3bec-4800-a29b-f791f08602df"
      },
      "execution_count": null,
      "outputs": [
        {
          "output_type": "execute_result",
          "data": {
            "text/plain": [
              "24576"
            ]
          },
          "metadata": {},
          "execution_count": 129
        }
      ]
    },
    {
      "cell_type": "markdown",
      "source": [
        "## CNN-LSTM"
      ],
      "metadata": {
        "id": "QBd6Nu1Y_bJc"
      }
    },
    {
      "cell_type": "code",
      "source": [
        "class CNNLSTM(nn.Module):\n",
        "  def __init__(self, input_size, cnn_hidden_size, rnn_hidden_size, num_layers, num_cls):\n",
        "    super().__init__()\n",
        "\n",
        "    self.conv1 = nn.Conv1d(input_size, cnn_hidden_size, kernel_size=5, padding=1)\n",
        "    self.bn1 = nn.BatchNorm1d(cnn_hidden_size)\n",
        "\n",
        "    self.conv2 = nn.Conv1d(cnn_hidden_size, cnn_hidden_size, kernel_size=5, padding=1)\n",
        "    self.bn2 = nn.BatchNorm1d(cnn_hidden_size)\n",
        "\n",
        "    self.pool = nn.MaxPool1d(2, 2)\n",
        "\n",
        "    self.lstm = nn.LSTM(cnn_hidden_size, rnn_hidden_size, num_layers, batch_first=True)\n",
        "\n",
        "    self.fc = nn.LazyLinear(num_cls)\n",
        "\n",
        "  def forward(self, x):\n",
        "    x = x.permute(0, 2, 1)\n",
        "    y = self.bn1(self.conv1(x)).relu()\n",
        "    y = self.bn2(self.conv2(y)).relu()\n",
        "    # y = self.pool(y)\n",
        "\n",
        "    y = y.permute(0, 2, 1)\n",
        "    y, _ = self.lstm(y)\n",
        "    y = self.fc(y)\n",
        "    return y.mean(dim=1)"
      ],
      "metadata": {
        "id": "TfYoSrCo_gSf"
      },
      "execution_count": null,
      "outputs": []
    },
    {
      "cell_type": "code",
      "source": [
        "model = CNNLSTM(9, 32, 128, 3, 6)\n",
        "model"
      ],
      "metadata": {
        "colab": {
          "base_uri": "https://localhost:8080/"
        },
        "id": "Od7tJuSsKggM",
        "outputId": "61317d5a-f889-4f49-decd-6b656be5aa39"
      },
      "execution_count": null,
      "outputs": [
        {
          "output_type": "stream",
          "name": "stderr",
          "text": [
            "C:\\Users\\PC\\anaconda3\\envs\\howsam-deep\\lib\\site-packages\\torch\\nn\\modules\\lazy.py:178: UserWarning: Lazy modules are a new feature under heavy development so changes to the API or functionality can happen at any moment.\n",
            "  warnings.warn('Lazy modules are a new feature under heavy development '\n"
          ]
        },
        {
          "output_type": "execute_result",
          "data": {
            "text/plain": [
              "CNNLSTM(\n",
              "  (conv1): Conv1d(9, 32, kernel_size=(5,), stride=(1,), padding=(1,))\n",
              "  (bn1): BatchNorm1d(32, eps=1e-05, momentum=0.1, affine=True, track_running_stats=True)\n",
              "  (conv2): Conv1d(32, 32, kernel_size=(5,), stride=(1,), padding=(1,))\n",
              "  (bn2): BatchNorm1d(32, eps=1e-05, momentum=0.1, affine=True, track_running_stats=True)\n",
              "  (pool): MaxPool1d(kernel_size=2, stride=2, padding=0, dilation=1, ceil_mode=False)\n",
              "  (lstm): LSTM(32, 128, num_layers=3)\n",
              "  (fc): LazyLinear(in_features=0, out_features=6, bias=True)\n",
              ")"
            ]
          },
          "metadata": {},
          "execution_count": 151
        }
      ]
    },
    {
      "cell_type": "code",
      "source": [
        "y = model(x)\n",
        "y.shape"
      ],
      "metadata": {
        "colab": {
          "base_uri": "https://localhost:8080/"
        },
        "id": "eUSFu5WnKunL",
        "outputId": "a7e5852f-2d21-478f-9eb8-c83f62229c29"
      },
      "execution_count": null,
      "outputs": [
        {
          "output_type": "execute_result",
          "data": {
            "text/plain": [
              "torch.Size([256, 6])"
            ]
          },
          "metadata": {},
          "execution_count": 153
        }
      ]
    },
    {
      "cell_type": "markdown",
      "source": [
        "## Params"
      ],
      "metadata": {
        "id": "IHsQ623pOs3J"
      }
    },
    {
      "cell_type": "code",
      "source": [
        "def num_params(model, k=1e6):\n",
        "  nums = sum(p.numel() for p in model.parameters())/k\n",
        "  return nums"
      ],
      "metadata": {
        "id": "K_JNWs7q0m1h"
      },
      "execution_count": null,
      "outputs": []
    },
    {
      "cell_type": "code",
      "source": [
        "num_params(model, 1e3)"
      ],
      "metadata": {
        "id": "VaBa7Ao90-66",
        "colab": {
          "base_uri": "https://localhost:8080/"
        },
        "outputId": "32d57bec-464e-4524-d58a-25cf0ca45f9a"
      },
      "execution_count": null,
      "outputs": [
        {
          "output_type": "execute_result",
          "data": {
            "text/plain": [
              "5.702"
            ]
          },
          "metadata": {},
          "execution_count": 36
        }
      ]
    },
    {
      "cell_type": "markdown",
      "source": [
        "# **Device ⚙️**"
      ],
      "metadata": {
        "id": "DY5JMY1Yftsr"
      }
    },
    {
      "cell_type": "code",
      "source": [
        "device = 'cuda' if torch.cuda.is_available() else 'cpu'\n",
        "device"
      ],
      "metadata": {
        "id": "Ce6_MpTcfrGi",
        "colab": {
          "base_uri": "https://localhost:8080/"
        },
        "outputId": "296d424e-6db6-47ea-cae2-386091c80425"
      },
      "execution_count": null,
      "outputs": [
        {
          "output_type": "execute_result",
          "data": {
            "text/plain": [
              "'cuda'"
            ]
          },
          "metadata": {},
          "execution_count": 37
        }
      ]
    },
    {
      "cell_type": "markdown",
      "source": [
        "# **Utils 🧰**"
      ],
      "metadata": {
        "id": "mbpEEA0g1-Be"
      }
    },
    {
      "cell_type": "code",
      "source": [
        "class AverageMeter(object):\n",
        "    \"\"\"Computes and stores the average and current value\"\"\"\n",
        "    def __init__(self):\n",
        "        self.reset()\n",
        "\n",
        "    def reset(self):\n",
        "        self.val = 0\n",
        "        self.avg = 0\n",
        "        self.sum = 0\n",
        "        self.count = 0\n",
        "\n",
        "    def update(self, val, n=1):\n",
        "        self.val = val\n",
        "        self.sum += val * n\n",
        "        self.count += n\n",
        "        self.avg = self.sum / self.count"
      ],
      "metadata": {
        "id": "G6s889_UrqDT"
      },
      "execution_count": null,
      "outputs": []
    },
    {
      "cell_type": "markdown",
      "source": [
        "# **Functions** 🧮"
      ],
      "metadata": {
        "id": "B_LljZFVAFPA"
      }
    },
    {
      "cell_type": "code",
      "source": [
        "def train_one_epoch(model, train_loader, loss_fn, optimizer, epoch=None):\n",
        "  model.train()\n",
        "  loss_train = AverageMeter()\n",
        "  acc_train = Accuracy().to(device)\n",
        "  with tqdm(train_loader, unit=\"batch\") as tepoch:\n",
        "    for inputs, targets in tepoch:\n",
        "      if epoch is not None:\n",
        "        tepoch.set_description(f\"Epoch {epoch}\")\n",
        "      inputs = inputs.to(device)\n",
        "      targets = targets.to(device)\n",
        "\n",
        "      outputs = model(inputs)\n",
        "\n",
        "      loss = loss_fn(outputs, targets)\n",
        "\n",
        "      loss.backward()\n",
        "      optimizer.step()\n",
        "      optimizer.zero_grad()\n",
        "\n",
        "      loss_train.update(loss.item())\n",
        "      acc_train(outputs, targets.int())\n",
        "      tepoch.set_postfix(loss=loss_train.avg,\n",
        "                         accuracy=100.*acc_train.compute().item())\n",
        "  return model, loss_train.avg, acc_train.compute().item()"
      ],
      "metadata": {
        "id": "4W9MVeEqAYiq"
      },
      "execution_count": null,
      "outputs": []
    },
    {
      "cell_type": "code",
      "source": [
        "def validation(model, test_loader, loss_fn):\n",
        "  model.eval()\n",
        "  with torch.no_grad():\n",
        "    loss_valid = AverageMeter()\n",
        "    acc_valid = Accuracy().to(device)\n",
        "    for i, (inputs, targets) in enumerate(test_loader):\n",
        "      inputs = inputs.to(device)\n",
        "      targets = targets.to(device)\n",
        "\n",
        "      outputs = model(inputs)\n",
        "      loss = loss_fn(outputs, targets)\n",
        "\n",
        "      loss_valid.update(loss.item())\n",
        "      acc_valid(outputs, targets.int())\n",
        "  return loss_valid.avg, acc_valid.compute().item()"
      ],
      "metadata": {
        "id": "ZEoGrXwZAaym"
      },
      "execution_count": null,
      "outputs": []
    },
    {
      "cell_type": "markdown",
      "source": [
        "# **Efficient way for set hyperparams 🔨**"
      ],
      "metadata": {
        "id": "9csGqnCvtFAS"
      }
    },
    {
      "cell_type": "markdown",
      "source": [
        "## Step 1: check forward path\n",
        "\n",
        "Calculate loss for one batch"
      ],
      "metadata": {
        "id": "lpJ3wtyctQJH"
      }
    },
    {
      "cell_type": "code",
      "source": [
        "model = RNNModel(9, 128, 1, False, 6).to(device)\n",
        "loss_fn = nn.CrossEntropyLoss()\n",
        "\n",
        "x_batch, y_batch = next(iter(train_loader))\n",
        "outputs = model(x_batch.to(device))\n",
        "loss = loss_fn(outputs, y_batch.to(device))\n",
        "print(loss)"
      ],
      "metadata": {
        "id": "QnE4F4GkzzaR",
        "colab": {
          "base_uri": "https://localhost:8080/"
        },
        "outputId": "c2178d36-e6f4-4125-e95d-5ab1c33c5386"
      },
      "execution_count": null,
      "outputs": [
        {
          "output_type": "stream",
          "name": "stderr",
          "text": [
            "C:\\Users\\PC\\anaconda3\\envs\\howsam-deep\\lib\\site-packages\\torch\\nn\\modules\\lazy.py:178: UserWarning: Lazy modules are a new feature under heavy development so changes to the API or functionality can happen at any moment.\n",
            "  warnings.warn('Lazy modules are a new feature under heavy development '\n"
          ]
        },
        {
          "output_type": "stream",
          "name": "stdout",
          "text": [
            "tensor(1.7841, device='cuda:0', grad_fn=<NllLossBackward0>)\n"
          ]
        }
      ]
    },
    {
      "cell_type": "markdown",
      "source": [
        "## Step 2: check backward path\n",
        "\n",
        "Select 5 random batches and train the model"
      ],
      "metadata": {
        "id": "BrHQCv7q7LF_"
      }
    },
    {
      "cell_type": "code",
      "source": [
        "_, mini_train_dataset = random_split(train_set, (len(train_set)-500, 500))\n",
        "mini_train_loader = DataLoader(mini_train_dataset, 20)"
      ],
      "metadata": {
        "id": "Jxz5DXoj61mg"
      },
      "execution_count": null,
      "outputs": []
    },
    {
      "cell_type": "code",
      "source": [
        "model = RNNModel(9, 128, 1, False, 6).to(device)\n",
        "loss_fn = nn.CrossEntropyLoss()"
      ],
      "metadata": {
        "id": "J8yz1meO_fUS"
      },
      "execution_count": null,
      "outputs": []
    },
    {
      "cell_type": "code",
      "source": [
        "optimizer = optim.SGD(model.parameters(), lr=0.1)"
      ],
      "metadata": {
        "id": "g0AG7IWGEcdG"
      },
      "execution_count": null,
      "outputs": []
    },
    {
      "cell_type": "code",
      "source": [
        "num_epochs = 100\n",
        "for epoch in range(num_epochs):\n",
        "  model, _, _ = train_one_epoch(model, mini_train_loader, loss_fn, optimizer, epoch)"
      ],
      "metadata": {
        "id": "PK-P20hI3snf"
      },
      "execution_count": null,
      "outputs": []
    },
    {
      "cell_type": "markdown",
      "source": [
        "## Step 3: select best lr\n",
        "\n",
        "Train all data for one epoch"
      ],
      "metadata": {
        "id": "BLT4w0ZfAhlJ"
      }
    },
    {
      "cell_type": "code",
      "source": [
        "num_epochs = 5\n",
        "for lr in [0.9, 0.5, 0.2, 0.1, 0.01]:\n",
        "  print(f'LR={lr}')\n",
        "  model = RNNModel(nn.LSTM, 9, 128, 3, False, 6).to(device)\n",
        "  optimizer = optim.SGD(model.parameters(), lr=lr, weight_decay=1e-4, momentum=0.9)\n",
        "  for epoch in range(num_epochs):\n",
        "    model, _, _ = train_one_epoch(model, train_loader, loss_fn, optimizer, epoch)\n",
        "  print()"
      ],
      "metadata": {
        "id": "c7tlXlY4_Dwi",
        "colab": {
          "base_uri": "https://localhost:8080/"
        },
        "outputId": "c77160fd-60c0-40a2-8e33-c60cef053108"
      },
      "execution_count": null,
      "outputs": [
        {
          "output_type": "stream",
          "name": "stdout",
          "text": [
            "LR=0.9\n"
          ]
        },
        {
          "output_type": "stream",
          "name": "stderr",
          "text": [
            "Epoch 0: 100%|████████████████████████████████████████████| 29/29 [00:01<00:00, 22.38batch/s, accuracy=26.3, loss=1.65]\n",
            "Epoch 1: 100%|████████████████████████████████████████████| 29/29 [00:01<00:00, 28.57batch/s, accuracy=40.4, loss=1.34]\n",
            "Epoch 2: 100%|████████████████████████████████████████████| 29/29 [00:01<00:00, 26.85batch/s, accuracy=45.7, loss=1.21]\n",
            "Epoch 3: 100%|██████████████████████████████████████████████| 29/29 [00:01<00:00, 27.83batch/s, accuracy=44, loss=1.32]\n",
            "Epoch 4: 100%|████████████████████████████████████████████| 29/29 [00:01<00:00, 27.49batch/s, accuracy=46.2, loss=1.34]\n"
          ]
        },
        {
          "output_type": "stream",
          "name": "stdout",
          "text": [
            "\n",
            "LR=0.5\n"
          ]
        },
        {
          "output_type": "stream",
          "name": "stderr",
          "text": [
            "Epoch 0: 100%|████████████████████████████████████████████| 29/29 [00:01<00:00, 27.81batch/s, accuracy=22.9, loss=1.72]\n",
            "Epoch 1: 100%|████████████████████████████████████████████| 29/29 [00:00<00:00, 30.65batch/s, accuracy=38.2, loss=1.35]\n",
            "Epoch 2: 100%|██████████████████████████████████████████████| 29/29 [00:00<00:00, 29.12batch/s, accuracy=45, loss=1.21]\n",
            "Epoch 3: 100%|████████████████████████████████████████████| 29/29 [00:00<00:00, 30.98batch/s, accuracy=48.3, loss=1.34]\n",
            "Epoch 4: 100%|████████████████████████████████████████████| 29/29 [00:01<00:00, 21.81batch/s, accuracy=40.9, loss=1.42]\n"
          ]
        },
        {
          "output_type": "stream",
          "name": "stdout",
          "text": [
            "\n",
            "LR=0.2\n"
          ]
        },
        {
          "output_type": "stream",
          "name": "stderr",
          "text": [
            "Epoch 0: 100%|████████████████████████████████████████████| 29/29 [00:00<00:00, 29.77batch/s, accuracy=20.5, loss=1.78]\n",
            "Epoch 1: 100%|████████████████████████████████████████████| 29/29 [00:00<00:00, 29.35batch/s, accuracy=33.4, loss=1.54]\n",
            "Epoch 2: 100%|████████████████████████████████████████████| 29/29 [00:01<00:00, 28.63batch/s, accuracy=41.6, loss=1.27]\n",
            "Epoch 3: 100%|████████████████████████████████████████████| 29/29 [00:01<00:00, 28.83batch/s, accuracy=48.5, loss=1.11]\n",
            "Epoch 4: 100%|█████████████████████████████████████████████| 29/29 [00:01<00:00, 27.83batch/s, accuracy=56, loss=0.994]\n"
          ]
        },
        {
          "output_type": "stream",
          "name": "stdout",
          "text": [
            "\n",
            "LR=0.1\n"
          ]
        },
        {
          "output_type": "stream",
          "name": "stderr",
          "text": [
            "Epoch 0: 100%|████████████████████████████████████████████| 29/29 [00:00<00:00, 29.03batch/s, accuracy=19.2, loss=1.79]\n",
            "Epoch 1: 100%|████████████████████████████████████████████| 29/29 [00:00<00:00, 30.40batch/s, accuracy=26.6, loss=1.77]\n",
            "Epoch 2: 100%|██████████████████████████████████████████████| 29/29 [00:01<00:00, 27.67batch/s, accuracy=38, loss=1.43]\n",
            "Epoch 3: 100%|████████████████████████████████████████████| 29/29 [00:00<00:00, 29.32batch/s, accuracy=43.6, loss=1.27]\n",
            "Epoch 4: 100%|█████████████████████████████████████████████| 29/29 [00:00<00:00, 29.71batch/s, accuracy=44.2, loss=1.2]\n"
          ]
        },
        {
          "output_type": "stream",
          "name": "stdout",
          "text": [
            "\n",
            "LR=0.01\n"
          ]
        },
        {
          "output_type": "stream",
          "name": "stderr",
          "text": [
            "Epoch 0: 100%|█████████████████████████████████████████████| 29/29 [00:01<00:00, 28.97batch/s, accuracy=14.3, loss=1.8]\n",
            "Epoch 1: 100%|████████████████████████████████████████████| 29/29 [00:00<00:00, 29.09batch/s, accuracy=19.1, loss=1.79]\n",
            "Epoch 2: 100%|████████████████████████████████████████████| 29/29 [00:00<00:00, 30.95batch/s, accuracy=19.1, loss=1.78]\n",
            "Epoch 3: 100%|████████████████████████████████████████████| 29/29 [00:01<00:00, 28.40batch/s, accuracy=19.1, loss=1.78]\n",
            "Epoch 4: 100%|████████████████████████████████████████████| 29/29 [00:01<00:00, 28.16batch/s, accuracy=19.1, loss=1.78]"
          ]
        },
        {
          "output_type": "stream",
          "name": "stdout",
          "text": [
            "\n"
          ]
        },
        {
          "output_type": "stream",
          "name": "stderr",
          "text": [
            "\n"
          ]
        }
      ]
    },
    {
      "cell_type": "markdown",
      "source": [
        "## Step 4: small grid (optional)\n",
        "\n",
        "Create a small grid based on the WD and the best LR\n",
        "\n"
      ],
      "metadata": {
        "id": "uC2GhaXfA8vC"
      }
    },
    {
      "cell_type": "code",
      "source": [
        "num_epochs = 5\n",
        "\n",
        "for lr in [0.08, 0.09, 0.1, 0.15, 0.2]:\n",
        "  for wd in [1e-4, 1e-5, 0.]:\n",
        "    model = RNNModel(9, 128, 1, True, 6).to(device)\n",
        "    optimizer = optim.SGD(model.parameters(), lr=lr, weight_decay=wd)\n",
        "    print(f'LR={lr}, WD={wd}')\n",
        "\n",
        "    for epoch in range(num_epochs):\n",
        "      model, loss, _ = train_one_epoch(model, train_loader, loss_fn, optimizer, epoch)\n",
        "    print()"
      ],
      "metadata": {
        "id": "yIta-JKgA7-I"
      },
      "execution_count": null,
      "outputs": []
    },
    {
      "cell_type": "markdown",
      "source": [
        "## Step 5: train more epochs"
      ],
      "metadata": {
        "id": "oBW2SLfEEkCp"
      }
    },
    {
      "cell_type": "code",
      "source": [
        "model = RNNModel(nn.LSTM, 9, 128, 3, False, 6).to(device)"
      ],
      "metadata": {
        "id": "pCCY2WecCyyg"
      },
      "execution_count": null,
      "outputs": []
    },
    {
      "cell_type": "code",
      "source": [
        "model = CNNModel([32, 32], [5, 5], 6).to(device)"
      ],
      "metadata": {
        "colab": {
          "base_uri": "https://localhost:8080/"
        },
        "id": "dqnJKYSuImBE",
        "outputId": "1f3c62c1-2649-4166-edff-c5d8bed71a13"
      },
      "execution_count": null,
      "outputs": [
        {
          "output_type": "stream",
          "name": "stderr",
          "text": [
            "C:\\Users\\PC\\anaconda3\\envs\\howsam-deep\\lib\\site-packages\\torch\\nn\\modules\\lazy.py:178: UserWarning: Lazy modules are a new feature under heavy development so changes to the API or functionality can happen at any moment.\n",
            "  warnings.warn('Lazy modules are a new feature under heavy development '\n"
          ]
        }
      ]
    },
    {
      "cell_type": "code",
      "source": [
        "model = CNNLSTM(9, 32, 128, 3, 6).to(device)"
      ],
      "metadata": {
        "id": "8lfKJA1VLg7L"
      },
      "execution_count": null,
      "outputs": []
    },
    {
      "cell_type": "code",
      "source": [
        "lr = 0.02\n",
        "wd = 1e-4\n",
        "optimizer = optim.SGD(model.parameters(), lr=lr, weight_decay=wd, momentum=0.9)\n",
        "\n",
        "loss_fn = nn.CrossEntropyLoss()"
      ],
      "metadata": {
        "id": "bowjVB5yIXUP"
      },
      "execution_count": null,
      "outputs": []
    },
    {
      "cell_type": "code",
      "source": [
        "loss_train_hist = []\n",
        "loss_valid_hist = []\n",
        "\n",
        "acc_train_hist = []\n",
        "acc_valid_hist = []\n",
        "\n",
        "best_loss_valid = torch.inf\n",
        "epoch_counter = 0"
      ],
      "metadata": {
        "id": "FIrBCdHBIeRb"
      },
      "execution_count": null,
      "outputs": []
    },
    {
      "cell_type": "code",
      "source": [
        "num_epochs = 80\n",
        "\n",
        "for epoch in range(num_epochs):\n",
        "  # Train\n",
        "  model, loss_train, acc_train = train_one_epoch(model,\n",
        "                                                 train_loader,\n",
        "                                                 loss_fn,\n",
        "                                                 optimizer,\n",
        "                                                 epoch)\n",
        "  # Validation\n",
        "  loss_valid, acc_valid = validation(model,\n",
        "                                     test_loader,\n",
        "                                     loss_fn)\n",
        "\n",
        "  loss_train_hist.append(loss_train)\n",
        "  loss_valid_hist.append(loss_valid)\n",
        "\n",
        "  acc_train_hist.append(acc_train)\n",
        "  acc_valid_hist.append(acc_valid)\n",
        "\n",
        "  print(f'Valid: Loss = {loss_valid:.4}, Acc = {acc_valid:.4}')\n",
        "\n",
        "  if loss_valid < best_loss_valid:\n",
        "    torch.save(model, 'model.pt')\n",
        "    best_loss_valid = loss_valid\n",
        "    print('Model Saved!')\n",
        "\n",
        "  print()\n",
        "  epoch_counter += 1"
      ],
      "metadata": {
        "id": "CAXagB4yvtZd",
        "colab": {
          "base_uri": "https://localhost:8080/"
        },
        "outputId": "f697b879-c758-4cf7-e27b-bafe2298303d"
      },
      "execution_count": null,
      "outputs": [
        {
          "output_type": "stream",
          "name": "stderr",
          "text": [
            "Epoch 0: 100%|███████████████████████████████████████████| 29/29 [00:01<00:00, 21.78batch/s, accuracy=95.8, loss=0.103]\n"
          ]
        },
        {
          "output_type": "stream",
          "name": "stdout",
          "text": [
            "Valid: Loss = 0.3397, Acc = 0.9026\n",
            "\n"
          ]
        },
        {
          "output_type": "stream",
          "name": "stderr",
          "text": [
            "Epoch 1: 100%|██████████████████████████████████████████| 29/29 [00:01<00:00, 28.57batch/s, accuracy=95.9, loss=0.0986]\n"
          ]
        },
        {
          "output_type": "stream",
          "name": "stdout",
          "text": [
            "Valid: Loss = 0.3352, Acc = 0.8996\n",
            "\n"
          ]
        },
        {
          "output_type": "stream",
          "name": "stderr",
          "text": [
            "Epoch 2: 100%|██████████████████████████████████████████| 29/29 [00:01<00:00, 28.29batch/s, accuracy=95.9, loss=0.0969]\n"
          ]
        },
        {
          "output_type": "stream",
          "name": "stdout",
          "text": [
            "Valid: Loss = 0.3288, Acc = 0.8999\n",
            "\n"
          ]
        },
        {
          "output_type": "stream",
          "name": "stderr",
          "text": [
            "Epoch 3: 100%|██████████████████████████████████████████| 29/29 [00:00<00:00, 29.00batch/s, accuracy=95.8, loss=0.0952]\n"
          ]
        },
        {
          "output_type": "stream",
          "name": "stdout",
          "text": [
            "Valid: Loss = 0.3279, Acc = 0.9009\n",
            "\n"
          ]
        },
        {
          "output_type": "stream",
          "name": "stderr",
          "text": [
            "Epoch 4: 100%|██████████████████████████████████████████| 29/29 [00:01<00:00, 28.18batch/s, accuracy=95.8, loss=0.0946]\n"
          ]
        },
        {
          "output_type": "stream",
          "name": "stdout",
          "text": [
            "Valid: Loss = 0.3202, Acc = 0.9019\n",
            "\n"
          ]
        },
        {
          "output_type": "stream",
          "name": "stderr",
          "text": [
            "Epoch 5: 100%|██████████████████████████████████████████| 29/29 [00:01<00:00, 28.27batch/s, accuracy=95.7, loss=0.0939]\n"
          ]
        },
        {
          "output_type": "stream",
          "name": "stdout",
          "text": [
            "Valid: Loss = 0.3161, Acc = 0.904\n",
            "\n"
          ]
        },
        {
          "output_type": "stream",
          "name": "stderr",
          "text": [
            "Epoch 6: 100%|██████████████████████████████████████████| 29/29 [00:00<00:00, 29.56batch/s, accuracy=95.8, loss=0.0929]\n"
          ]
        },
        {
          "output_type": "stream",
          "name": "stdout",
          "text": [
            "Valid: Loss = 0.3154, Acc = 0.9057\n",
            "\n"
          ]
        },
        {
          "output_type": "stream",
          "name": "stderr",
          "text": [
            "Epoch 7: 100%|██████████████████████████████████████████| 29/29 [00:01<00:00, 27.26batch/s, accuracy=95.7, loss=0.0928]\n"
          ]
        },
        {
          "output_type": "stream",
          "name": "stdout",
          "text": [
            "Valid: Loss = 0.319, Acc = 0.904\n",
            "\n"
          ]
        },
        {
          "output_type": "stream",
          "name": "stderr",
          "text": [
            "Epoch 8: 100%|██████████████████████████████████████████| 29/29 [00:01<00:00, 28.21batch/s, accuracy=95.8, loss=0.0922]\n"
          ]
        },
        {
          "output_type": "stream",
          "name": "stdout",
          "text": [
            "Valid: Loss = 0.3142, Acc = 0.9019\n",
            "\n"
          ]
        },
        {
          "output_type": "stream",
          "name": "stderr",
          "text": [
            "Epoch 9: 100%|██████████████████████████████████████████| 29/29 [00:01<00:00, 28.27batch/s, accuracy=95.8, loss=0.0919]\n"
          ]
        },
        {
          "output_type": "stream",
          "name": "stdout",
          "text": [
            "Valid: Loss = 0.3101, Acc = 0.9046\n",
            "\n"
          ]
        },
        {
          "output_type": "stream",
          "name": "stderr",
          "text": [
            "Epoch 10: 100%|█████████████████████████████████████████| 29/29 [00:00<00:00, 29.68batch/s, accuracy=95.8, loss=0.0906]\n"
          ]
        },
        {
          "output_type": "stream",
          "name": "stdout",
          "text": [
            "Valid: Loss = 0.3087, Acc = 0.903\n",
            "\n"
          ]
        },
        {
          "output_type": "stream",
          "name": "stderr",
          "text": [
            "Epoch 11: 100%|█████████████████████████████████████████| 29/29 [00:01<00:00, 27.86batch/s, accuracy=95.8, loss=0.0908]\n"
          ]
        },
        {
          "output_type": "stream",
          "name": "stdout",
          "text": [
            "Valid: Loss = 0.3079, Acc = 0.9033\n",
            "\n"
          ]
        },
        {
          "output_type": "stream",
          "name": "stderr",
          "text": [
            "Epoch 12: 100%|█████████████████████████████████████████| 29/29 [00:01<00:00, 28.24batch/s, accuracy=95.9, loss=0.0902]\n"
          ]
        },
        {
          "output_type": "stream",
          "name": "stdout",
          "text": [
            "Valid: Loss = 0.2996, Acc = 0.9077\n",
            "\n"
          ]
        },
        {
          "output_type": "stream",
          "name": "stderr",
          "text": [
            "Epoch 13: 100%|█████████████████████████████████████████| 29/29 [00:01<00:00, 28.77batch/s, accuracy=95.8, loss=0.0901]\n"
          ]
        },
        {
          "output_type": "stream",
          "name": "stdout",
          "text": [
            "Valid: Loss = 0.2968, Acc = 0.908\n",
            "\n"
          ]
        },
        {
          "output_type": "stream",
          "name": "stderr",
          "text": [
            "Epoch 14: 100%|█████████████████████████████████████████| 29/29 [00:00<00:00, 33.03batch/s, accuracy=95.8, loss=0.0886]\n"
          ]
        },
        {
          "output_type": "stream",
          "name": "stdout",
          "text": [
            "Valid: Loss = 0.3018, Acc = 0.9043\n",
            "\n"
          ]
        },
        {
          "output_type": "stream",
          "name": "stderr",
          "text": [
            "Epoch 15: 100%|█████████████████████████████████████████| 29/29 [00:00<00:00, 32.80batch/s, accuracy=95.8, loss=0.0886]\n"
          ]
        },
        {
          "output_type": "stream",
          "name": "stdout",
          "text": [
            "Valid: Loss = 0.2968, Acc = 0.9087\n",
            "\n"
          ]
        },
        {
          "output_type": "stream",
          "name": "stderr",
          "text": [
            "Epoch 16: 100%|█████████████████████████████████████████| 29/29 [00:00<00:00, 32.65batch/s, accuracy=95.8, loss=0.0885]\n"
          ]
        },
        {
          "output_type": "stream",
          "name": "stdout",
          "text": [
            "Valid: Loss = 0.2992, Acc = 0.908\n",
            "\n"
          ]
        },
        {
          "output_type": "stream",
          "name": "stderr",
          "text": [
            "Epoch 17: 100%|█████████████████████████████████████████| 29/29 [00:00<00:00, 32.54batch/s, accuracy=95.9, loss=0.0865]\n"
          ]
        },
        {
          "output_type": "stream",
          "name": "stdout",
          "text": [
            "Valid: Loss = 0.3046, Acc = 0.9016\n",
            "\n"
          ]
        },
        {
          "output_type": "stream",
          "name": "stderr",
          "text": [
            "Epoch 18: 100%|█████████████████████████████████████████| 29/29 [00:00<00:00, 32.69batch/s, accuracy=95.9, loss=0.0856]\n"
          ]
        },
        {
          "output_type": "stream",
          "name": "stdout",
          "text": [
            "Valid: Loss = 0.2967, Acc = 0.9084\n",
            "\n"
          ]
        },
        {
          "output_type": "stream",
          "name": "stderr",
          "text": [
            "Epoch 19: 100%|███████████████████████████████████████████| 29/29 [00:00<00:00, 32.33batch/s, accuracy=96, loss=0.0836]\n"
          ]
        },
        {
          "output_type": "stream",
          "name": "stdout",
          "text": [
            "Valid: Loss = 0.29, Acc = 0.9135\n",
            "\n"
          ]
        },
        {
          "output_type": "stream",
          "name": "stderr",
          "text": [
            "Epoch 20: 100%|███████████████████████████████████████████| 29/29 [00:00<00:00, 33.10batch/s, accuracy=96, loss=0.0818]\n"
          ]
        },
        {
          "output_type": "stream",
          "name": "stdout",
          "text": [
            "Valid: Loss = 0.2949, Acc = 0.9094\n",
            "\n"
          ]
        },
        {
          "output_type": "stream",
          "name": "stderr",
          "text": [
            "Epoch 21: 100%|█████████████████████████████████████████| 29/29 [00:00<00:00, 31.80batch/s, accuracy=96.1, loss=0.0806]\n"
          ]
        },
        {
          "output_type": "stream",
          "name": "stdout",
          "text": [
            "Valid: Loss = 0.2942, Acc = 0.9104\n",
            "\n"
          ]
        },
        {
          "output_type": "stream",
          "name": "stderr",
          "text": [
            "Epoch 22: 100%|███████████████████████████████████████████| 29/29 [00:00<00:00, 32.40batch/s, accuracy=96, loss=0.0856]\n"
          ]
        },
        {
          "output_type": "stream",
          "name": "stdout",
          "text": [
            "Valid: Loss = 0.2681, Acc = 0.9108\n",
            "\n"
          ]
        },
        {
          "output_type": "stream",
          "name": "stderr",
          "text": [
            "Epoch 23: 100%|█████████████████████████████████████████| 29/29 [00:00<00:00, 32.69batch/s, accuracy=95.6, loss=0.0953]\n"
          ]
        },
        {
          "output_type": "stream",
          "name": "stdout",
          "text": [
            "Valid: Loss = 0.2855, Acc = 0.9023\n",
            "\n"
          ]
        },
        {
          "output_type": "stream",
          "name": "stderr",
          "text": [
            "Epoch 24: 100%|█████████████████████████████████████████| 29/29 [00:00<00:00, 33.06batch/s, accuracy=95.9, loss=0.0872]\n"
          ]
        },
        {
          "output_type": "stream",
          "name": "stdout",
          "text": [
            "Valid: Loss = 0.2855, Acc = 0.9074\n",
            "\n"
          ]
        },
        {
          "output_type": "stream",
          "name": "stderr",
          "text": [
            "Epoch 25: 100%|█████████████████████████████████████████| 29/29 [00:00<00:00, 31.94batch/s, accuracy=96.2, loss=0.0839]\n"
          ]
        },
        {
          "output_type": "stream",
          "name": "stdout",
          "text": [
            "Valid: Loss = 0.2852, Acc = 0.9121\n",
            "\n"
          ]
        },
        {
          "output_type": "stream",
          "name": "stderr",
          "text": [
            "Epoch 26: 100%|█████████████████████████████████████████| 29/29 [00:00<00:00, 31.94batch/s, accuracy=95.9, loss=0.0835]\n"
          ]
        },
        {
          "output_type": "stream",
          "name": "stdout",
          "text": [
            "Valid: Loss = 0.3064, Acc = 0.9125\n",
            "\n"
          ]
        },
        {
          "output_type": "stream",
          "name": "stderr",
          "text": [
            "Epoch 27: 100%|█████████████████████████████████████████| 29/29 [00:00<00:00, 32.58batch/s, accuracy=96.2, loss=0.0814]\n"
          ]
        },
        {
          "output_type": "stream",
          "name": "stdout",
          "text": [
            "Valid: Loss = 0.2883, Acc = 0.9158\n",
            "\n"
          ]
        },
        {
          "output_type": "stream",
          "name": "stderr",
          "text": [
            "Epoch 28: 100%|█████████████████████████████████████████| 29/29 [00:00<00:00, 32.08batch/s, accuracy=96.2, loss=0.0806]\n"
          ]
        },
        {
          "output_type": "stream",
          "name": "stdout",
          "text": [
            "Valid: Loss = 0.299, Acc = 0.9101\n",
            "\n"
          ]
        },
        {
          "output_type": "stream",
          "name": "stderr",
          "text": [
            "Epoch 29: 100%|██████████████████████████████████████████| 29/29 [00:00<00:00, 32.18batch/s, accuracy=96.3, loss=0.078]\n"
          ]
        },
        {
          "output_type": "stream",
          "name": "stdout",
          "text": [
            "Valid: Loss = 0.2917, Acc = 0.9145\n",
            "\n"
          ]
        },
        {
          "output_type": "stream",
          "name": "stderr",
          "text": [
            "Epoch 30: 100%|█████████████████████████████████████████| 29/29 [00:00<00:00, 32.91batch/s, accuracy=96.4, loss=0.0769]\n"
          ]
        },
        {
          "output_type": "stream",
          "name": "stdout",
          "text": [
            "Valid: Loss = 0.3011, Acc = 0.9141\n",
            "\n"
          ]
        },
        {
          "output_type": "stream",
          "name": "stderr",
          "text": [
            "Epoch 31: 100%|█████████████████████████████████████████| 29/29 [00:00<00:00, 32.18batch/s, accuracy=96.4, loss=0.0752]\n"
          ]
        },
        {
          "output_type": "stream",
          "name": "stdout",
          "text": [
            "Valid: Loss = 0.3086, Acc = 0.9125\n",
            "\n"
          ]
        },
        {
          "output_type": "stream",
          "name": "stderr",
          "text": [
            "Epoch 32: 100%|██████████████████████████████████████████| 29/29 [00:00<00:00, 32.73batch/s, accuracy=96.3, loss=0.074]\n"
          ]
        },
        {
          "output_type": "stream",
          "name": "stdout",
          "text": [
            "Valid: Loss = 0.305, Acc = 0.9118\n",
            "\n"
          ]
        },
        {
          "output_type": "stream",
          "name": "stderr",
          "text": [
            "Epoch 33: 100%|██████████████████████████████████████████| 29/29 [00:00<00:00, 32.40batch/s, accuracy=95.8, loss=0.101]\n"
          ]
        },
        {
          "output_type": "stream",
          "name": "stdout",
          "text": [
            "Valid: Loss = 0.2693, Acc = 0.9057\n",
            "\n"
          ]
        },
        {
          "output_type": "stream",
          "name": "stderr",
          "text": [
            "Epoch 34: 100%|██████████████████████████████████████████| 29/29 [00:00<00:00, 32.84batch/s, accuracy=95.3, loss=0.103]\n"
          ]
        },
        {
          "output_type": "stream",
          "name": "stdout",
          "text": [
            "Valid: Loss = 0.2694, Acc = 0.9094\n",
            "\n"
          ]
        },
        {
          "output_type": "stream",
          "name": "stderr",
          "text": [
            "Epoch 35: 100%|███████████████████████████████████████████| 29/29 [00:00<00:00, 31.62batch/s, accuracy=96, loss=0.0934]\n"
          ]
        },
        {
          "output_type": "stream",
          "name": "stdout",
          "text": [
            "Valid: Loss = 0.2754, Acc = 0.9135\n",
            "\n"
          ]
        },
        {
          "output_type": "stream",
          "name": "stderr",
          "text": [
            "Epoch 36: 100%|████████████████████████████████████████████| 29/29 [00:00<00:00, 32.62batch/s, accuracy=96, loss=0.093]\n"
          ]
        },
        {
          "output_type": "stream",
          "name": "stdout",
          "text": [
            "Valid: Loss = 0.2616, Acc = 0.9213\n",
            "\n"
          ]
        },
        {
          "output_type": "stream",
          "name": "stderr",
          "text": [
            "Epoch 37: 100%|██████████████████████████████████████████| 29/29 [00:00<00:00, 32.62batch/s, accuracy=95.9, loss=0.094]\n"
          ]
        },
        {
          "output_type": "stream",
          "name": "stdout",
          "text": [
            "Valid: Loss = 0.2841, Acc = 0.9074\n",
            "\n"
          ]
        },
        {
          "output_type": "stream",
          "name": "stderr",
          "text": [
            "Epoch 38: 100%|███████████████████████████████████████████| 29/29 [00:00<00:00, 32.54batch/s, accuracy=96, loss=0.0935]\n"
          ]
        },
        {
          "output_type": "stream",
          "name": "stdout",
          "text": [
            "Valid: Loss = 0.3028, Acc = 0.9013\n",
            "\n"
          ]
        },
        {
          "output_type": "stream",
          "name": "stderr",
          "text": [
            "Epoch 39: 100%|█████████████████████████████████████████| 29/29 [00:00<00:00, 32.58batch/s, accuracy=96.1, loss=0.0905]\n"
          ]
        },
        {
          "output_type": "stream",
          "name": "stdout",
          "text": [
            "Valid: Loss = 0.2852, Acc = 0.9104\n",
            "\n"
          ]
        },
        {
          "output_type": "stream",
          "name": "stderr",
          "text": [
            "Epoch 40: 100%|█████████████████████████████████████████| 29/29 [00:00<00:00, 32.22batch/s, accuracy=95.8, loss=0.0959]\n"
          ]
        },
        {
          "output_type": "stream",
          "name": "stdout",
          "text": [
            "Valid: Loss = 0.2866, Acc = 0.8996\n",
            "\n"
          ]
        },
        {
          "output_type": "stream",
          "name": "stderr",
          "text": [
            "Epoch 41: 100%|█████████████████████████████████████████| 29/29 [00:00<00:00, 32.44batch/s, accuracy=95.8, loss=0.0952]\n"
          ]
        },
        {
          "output_type": "stream",
          "name": "stdout",
          "text": [
            "Valid: Loss = 0.2646, Acc = 0.9206\n",
            "\n"
          ]
        },
        {
          "output_type": "stream",
          "name": "stderr",
          "text": [
            "Epoch 42: 100%|█████████████████████████████████████████| 29/29 [00:00<00:00, 32.73batch/s, accuracy=96.3, loss=0.0889]\n"
          ]
        },
        {
          "output_type": "stream",
          "name": "stdout",
          "text": [
            "Valid: Loss = 0.2777, Acc = 0.9111\n",
            "\n"
          ]
        },
        {
          "output_type": "stream",
          "name": "stderr",
          "text": [
            "Epoch 43: 100%|█████████████████████████████████████████| 29/29 [00:00<00:00, 32.84batch/s, accuracy=96.2, loss=0.0876]\n"
          ]
        },
        {
          "output_type": "stream",
          "name": "stdout",
          "text": [
            "Valid: Loss = 0.2743, Acc = 0.9165\n",
            "\n"
          ]
        },
        {
          "output_type": "stream",
          "name": "stderr",
          "text": [
            "Epoch 44: 100%|█████████████████████████████████████████| 29/29 [00:00<00:00, 32.88batch/s, accuracy=96.3, loss=0.0856]\n"
          ]
        },
        {
          "output_type": "stream",
          "name": "stdout",
          "text": [
            "Valid: Loss = 0.2722, Acc = 0.9152\n",
            "\n"
          ]
        },
        {
          "output_type": "stream",
          "name": "stderr",
          "text": [
            "Epoch 45: 100%|█████████████████████████████████████████| 29/29 [00:01<00:00, 26.29batch/s, accuracy=96.5, loss=0.0831]\n"
          ]
        },
        {
          "output_type": "stream",
          "name": "stdout",
          "text": [
            "Valid: Loss = 0.2981, Acc = 0.9057\n",
            "\n"
          ]
        },
        {
          "output_type": "stream",
          "name": "stderr",
          "text": [
            "Epoch 46: 100%|█████████████████████████████████████████| 29/29 [00:00<00:00, 32.95batch/s, accuracy=96.2, loss=0.0864]\n"
          ]
        },
        {
          "output_type": "stream",
          "name": "stdout",
          "text": [
            "Valid: Loss = 0.2835, Acc = 0.9128\n",
            "\n"
          ]
        },
        {
          "output_type": "stream",
          "name": "stderr",
          "text": [
            "Epoch 47: 100%|█████████████████████████████████████████| 29/29 [00:00<00:00, 32.88batch/s, accuracy=96.6, loss=0.0815]\n"
          ]
        },
        {
          "output_type": "stream",
          "name": "stdout",
          "text": [
            "Valid: Loss = 0.2826, Acc = 0.9209\n",
            "\n"
          ]
        },
        {
          "output_type": "stream",
          "name": "stderr",
          "text": [
            "Epoch 48: 100%|█████████████████████████████████████████| 29/29 [00:00<00:00, 33.10batch/s, accuracy=96.4, loss=0.0844]\n"
          ]
        },
        {
          "output_type": "stream",
          "name": "stdout",
          "text": [
            "Valid: Loss = 0.2955, Acc = 0.9128\n",
            "\n"
          ]
        },
        {
          "output_type": "stream",
          "name": "stderr",
          "text": [
            "Epoch 49: 100%|███████████████████████████████████████████| 29/29 [00:00<00:00, 32.95batch/s, accuracy=96, loss=0.0884]\n"
          ]
        },
        {
          "output_type": "stream",
          "name": "stdout",
          "text": [
            "Valid: Loss = 0.2761, Acc = 0.9199\n",
            "\n"
          ]
        },
        {
          "output_type": "stream",
          "name": "stderr",
          "text": [
            "Epoch 50: 100%|█████████████████████████████████████████| 29/29 [00:00<00:00, 32.76batch/s, accuracy=96.4, loss=0.0825]\n"
          ]
        },
        {
          "output_type": "stream",
          "name": "stdout",
          "text": [
            "Valid: Loss = 0.2898, Acc = 0.9125\n",
            "\n"
          ]
        },
        {
          "output_type": "stream",
          "name": "stderr",
          "text": [
            "Epoch 51: 100%|█████████████████████████████████████████| 29/29 [00:00<00:00, 32.54batch/s, accuracy=96.1, loss=0.0879]\n"
          ]
        },
        {
          "output_type": "stream",
          "name": "stdout",
          "text": [
            "Valid: Loss = 0.2729, Acc = 0.9145\n",
            "\n"
          ]
        },
        {
          "output_type": "stream",
          "name": "stderr",
          "text": [
            "Epoch 52: 100%|█████████████████████████████████████████| 29/29 [00:00<00:00, 32.95batch/s, accuracy=96.6, loss=0.0797]\n"
          ]
        },
        {
          "output_type": "stream",
          "name": "stdout",
          "text": [
            "Valid: Loss = 0.2934, Acc = 0.9101\n",
            "\n"
          ]
        },
        {
          "output_type": "stream",
          "name": "stderr",
          "text": [
            "Epoch 53: 100%|█████████████████████████████████████████| 29/29 [00:00<00:00, 32.08batch/s, accuracy=96.4, loss=0.0808]\n"
          ]
        },
        {
          "output_type": "stream",
          "name": "stdout",
          "text": [
            "Valid: Loss = 0.2902, Acc = 0.9148\n",
            "\n"
          ]
        },
        {
          "output_type": "stream",
          "name": "stderr",
          "text": [
            "Epoch 54: 100%|█████████████████████████████████████████| 29/29 [00:00<00:00, 32.36batch/s, accuracy=96.6, loss=0.0799]\n"
          ]
        },
        {
          "output_type": "stream",
          "name": "stdout",
          "text": [
            "Valid: Loss = 0.2867, Acc = 0.9148\n",
            "\n"
          ]
        },
        {
          "output_type": "stream",
          "name": "stderr",
          "text": [
            "Epoch 55: 100%|██████████████████████████████████████████| 29/29 [00:00<00:00, 32.54batch/s, accuracy=96.5, loss=0.082]\n"
          ]
        },
        {
          "output_type": "stream",
          "name": "stdout",
          "text": [
            "Valid: Loss = 0.2932, Acc = 0.9128\n",
            "\n"
          ]
        },
        {
          "output_type": "stream",
          "name": "stderr",
          "text": [
            "Epoch 56: 100%|█████████████████████████████████████████| 29/29 [00:00<00:00, 32.80batch/s, accuracy=96.7, loss=0.0797]\n"
          ]
        },
        {
          "output_type": "stream",
          "name": "stdout",
          "text": [
            "Valid: Loss = 0.2961, Acc = 0.906\n",
            "\n"
          ]
        },
        {
          "output_type": "stream",
          "name": "stderr",
          "text": [
            "Epoch 57: 100%|█████████████████████████████████████████| 29/29 [00:00<00:00, 32.18batch/s, accuracy=96.7, loss=0.0772]\n"
          ]
        },
        {
          "output_type": "stream",
          "name": "stdout",
          "text": [
            "Valid: Loss = 0.2886, Acc = 0.9175\n",
            "\n"
          ]
        },
        {
          "output_type": "stream",
          "name": "stderr",
          "text": [
            "Epoch 58: 100%|█████████████████████████████████████████| 29/29 [00:00<00:00, 32.99batch/s, accuracy=96.7, loss=0.0776]\n"
          ]
        },
        {
          "output_type": "stream",
          "name": "stdout",
          "text": [
            "Valid: Loss = 0.3269, Acc = 0.9053\n",
            "\n"
          ]
        },
        {
          "output_type": "stream",
          "name": "stderr",
          "text": [
            "Epoch 59: 100%|█████████████████████████████████████████| 29/29 [00:00<00:00, 32.44batch/s, accuracy=96.7, loss=0.0754]\n"
          ]
        },
        {
          "output_type": "stream",
          "name": "stdout",
          "text": [
            "Valid: Loss = 0.3172, Acc = 0.9097\n",
            "\n"
          ]
        },
        {
          "output_type": "stream",
          "name": "stderr",
          "text": [
            "Epoch 60: 100%|█████████████████████████████████████████| 29/29 [00:00<00:00, 30.82batch/s, accuracy=96.5, loss=0.0783]\n"
          ]
        },
        {
          "output_type": "stream",
          "name": "stdout",
          "text": [
            "Valid: Loss = 0.3084, Acc = 0.9121\n",
            "\n"
          ]
        },
        {
          "output_type": "stream",
          "name": "stderr",
          "text": [
            "Epoch 61: 100%|█████████████████████████████████████████| 29/29 [00:00<00:00, 32.51batch/s, accuracy=96.5, loss=0.0776]\n"
          ]
        },
        {
          "output_type": "stream",
          "name": "stdout",
          "text": [
            "Valid: Loss = 0.3134, Acc = 0.9053\n",
            "\n"
          ]
        },
        {
          "output_type": "stream",
          "name": "stderr",
          "text": [
            "Epoch 62: 100%|██████████████████████████████████████████| 29/29 [00:00<00:00, 32.58batch/s, accuracy=96.4, loss=0.078]\n"
          ]
        },
        {
          "output_type": "stream",
          "name": "stdout",
          "text": [
            "Valid: Loss = 0.3214, Acc = 0.9084\n",
            "\n"
          ]
        },
        {
          "output_type": "stream",
          "name": "stderr",
          "text": [
            "Epoch 63: 100%|█████████████████████████████████████████| 29/29 [00:00<00:00, 32.65batch/s, accuracy=96.6, loss=0.0768]\n"
          ]
        },
        {
          "output_type": "stream",
          "name": "stdout",
          "text": [
            "Valid: Loss = 0.3284, Acc = 0.8982\n",
            "\n"
          ]
        },
        {
          "output_type": "stream",
          "name": "stderr",
          "text": [
            "Epoch 64: 100%|█████████████████████████████████████████| 29/29 [00:00<00:00, 32.95batch/s, accuracy=96.2, loss=0.0831]\n"
          ]
        },
        {
          "output_type": "stream",
          "name": "stdout",
          "text": [
            "Valid: Loss = 0.3168, Acc = 0.907\n",
            "\n"
          ]
        },
        {
          "output_type": "stream",
          "name": "stderr",
          "text": [
            "Epoch 65: 100%|██████████████████████████████████████████| 29/29 [00:00<00:00, 32.51batch/s, accuracy=95.4, loss=0.111]\n"
          ]
        },
        {
          "output_type": "stream",
          "name": "stdout",
          "text": [
            "Valid: Loss = 0.3493, Acc = 0.8962\n",
            "\n"
          ]
        },
        {
          "output_type": "stream",
          "name": "stderr",
          "text": [
            "Epoch 66: 100%|██████████████████████████████████████████| 29/29 [00:00<00:00, 32.22batch/s, accuracy=95.4, loss=0.105]\n"
          ]
        },
        {
          "output_type": "stream",
          "name": "stdout",
          "text": [
            "Valid: Loss = 0.3241, Acc = 0.9155\n",
            "\n"
          ]
        },
        {
          "output_type": "stream",
          "name": "stderr",
          "text": [
            "Epoch 67: 100%|██████████████████████████████████████████| 29/29 [00:00<00:00, 32.69batch/s, accuracy=95.4, loss=0.102]\n"
          ]
        },
        {
          "output_type": "stream",
          "name": "stdout",
          "text": [
            "Valid: Loss = 0.286, Acc = 0.9121\n",
            "\n"
          ]
        },
        {
          "output_type": "stream",
          "name": "stderr",
          "text": [
            "Epoch 68: 100%|█████████████████████████████████████████| 29/29 [00:00<00:00, 32.65batch/s, accuracy=95.5, loss=0.0945]\n"
          ]
        },
        {
          "output_type": "stream",
          "name": "stdout",
          "text": [
            "Valid: Loss = 0.259, Acc = 0.9189\n",
            "\n"
          ]
        },
        {
          "output_type": "stream",
          "name": "stderr",
          "text": [
            "Epoch 69: 100%|██████████████████████████████████████████| 29/29 [00:00<00:00, 32.40batch/s, accuracy=95.4, loss=0.106]\n"
          ]
        },
        {
          "output_type": "stream",
          "name": "stdout",
          "text": [
            "Valid: Loss = 0.2719, Acc = 0.9165\n",
            "\n"
          ]
        },
        {
          "output_type": "stream",
          "name": "stderr",
          "text": [
            "Epoch 70: 100%|█████████████████████████████████████████| 29/29 [00:00<00:00, 32.69batch/s, accuracy=95.5, loss=0.0944]\n"
          ]
        },
        {
          "output_type": "stream",
          "name": "stdout",
          "text": [
            "Valid: Loss = 0.2811, Acc = 0.9223\n",
            "\n"
          ]
        },
        {
          "output_type": "stream",
          "name": "stderr",
          "text": [
            "Epoch 71: 100%|███████████████████████████████████████████| 29/29 [00:00<00:00, 33.21batch/s, accuracy=96, loss=0.0869]\n"
          ]
        },
        {
          "output_type": "stream",
          "name": "stdout",
          "text": [
            "Valid: Loss = 0.2924, Acc = 0.9192\n",
            "\n"
          ]
        },
        {
          "output_type": "stream",
          "name": "stderr",
          "text": [
            "Epoch 72: 100%|██████████████████████████████████████████| 29/29 [00:00<00:00, 32.47batch/s, accuracy=94.8, loss=0.123]\n"
          ]
        },
        {
          "output_type": "stream",
          "name": "stdout",
          "text": [
            "Valid: Loss = 0.2756, Acc = 0.8941\n",
            "\n"
          ]
        },
        {
          "output_type": "stream",
          "name": "stderr",
          "text": [
            "Epoch 73: 100%|██████████████████████████████████████████| 29/29 [00:00<00:00, 32.22batch/s, accuracy=94.5, loss=0.108]\n"
          ]
        },
        {
          "output_type": "stream",
          "name": "stdout",
          "text": [
            "Valid: Loss = 0.2502, Acc = 0.9097\n",
            "\n"
          ]
        },
        {
          "output_type": "stream",
          "name": "stderr",
          "text": [
            "Epoch 74: 100%|█████████████████████████████████████████| 29/29 [00:00<00:00, 32.73batch/s, accuracy=95.6, loss=0.0915]\n"
          ]
        },
        {
          "output_type": "stream",
          "name": "stdout",
          "text": [
            "Valid: Loss = 0.2534, Acc = 0.9074\n",
            "\n"
          ]
        },
        {
          "output_type": "stream",
          "name": "stderr",
          "text": [
            "Epoch 75: 100%|█████████████████████████████████████████| 29/29 [00:00<00:00, 32.11batch/s, accuracy=95.7, loss=0.0847]\n"
          ]
        },
        {
          "output_type": "stream",
          "name": "stdout",
          "text": [
            "Valid: Loss = 0.2603, Acc = 0.9148\n",
            "\n"
          ]
        },
        {
          "output_type": "stream",
          "name": "stderr",
          "text": [
            "Epoch 76: 100%|█████████████████████████████████████████| 29/29 [00:00<00:00, 32.54batch/s, accuracy=96.1, loss=0.0796]\n"
          ]
        },
        {
          "output_type": "stream",
          "name": "stdout",
          "text": [
            "Valid: Loss = 0.2658, Acc = 0.9186\n",
            "\n"
          ]
        },
        {
          "output_type": "stream",
          "name": "stderr",
          "text": [
            "Epoch 77: 100%|█████████████████████████████████████████| 29/29 [00:00<00:00, 32.69batch/s, accuracy=96.5, loss=0.0781]\n"
          ]
        },
        {
          "output_type": "stream",
          "name": "stdout",
          "text": [
            "Valid: Loss = 0.3143, Acc = 0.9233\n",
            "\n"
          ]
        },
        {
          "output_type": "stream",
          "name": "stderr",
          "text": [
            "Epoch 78: 100%|█████████████████████████████████████████| 29/29 [00:00<00:00, 32.51batch/s, accuracy=96.3, loss=0.0818]\n"
          ]
        },
        {
          "output_type": "stream",
          "name": "stdout",
          "text": [
            "Valid: Loss = 0.3003, Acc = 0.9158\n",
            "\n"
          ]
        },
        {
          "output_type": "stream",
          "name": "stderr",
          "text": [
            "Epoch 79: 100%|██████████████████████████████████████████| 29/29 [00:00<00:00, 32.91batch/s, accuracy=95.6, loss=0.101]\n"
          ]
        },
        {
          "output_type": "stream",
          "name": "stdout",
          "text": [
            "Valid: Loss = 0.2372, Acc = 0.9067\n",
            "\n"
          ]
        }
      ]
    },
    {
      "cell_type": "markdown",
      "source": [
        "# **Plot**"
      ],
      "metadata": {
        "id": "oK20iNRI3Xxb"
      }
    },
    {
      "cell_type": "code",
      "source": [
        "plt.plot(range(epoch_counter), loss_train_hist, 'r-', label='Train')\n",
        "plt.plot(range(epoch_counter), loss_valid_hist, 'b-', label='Validation')\n",
        "\n",
        "plt.xlabel('Epoch')\n",
        "plt.ylabel('loss')\n",
        "plt.grid(True)\n",
        "plt.legend()"
      ],
      "metadata": {
        "id": "KYFzTsdIOkVp",
        "colab": {
          "base_uri": "https://localhost:8080/",
          "height": 297
        },
        "outputId": "64505f3a-583a-44ce-ba42-4c8039405041"
      },
      "execution_count": null,
      "outputs": [
        {
          "output_type": "execute_result",
          "data": {
            "text/plain": [
              "<matplotlib.legend.Legend at 0x205e18f3eb0>"
            ]
          },
          "metadata": {},
          "execution_count": 158
        },
        {
          "output_type": "display_data",
          "data": {
            "text/plain": [
              "<Figure size 432x288 with 1 Axes>"
            ],
            "image/png": "[encoded data removed]"
          },
          "metadata": {
            "needs_background": "light"
          }
        }
      ]
    },
    {
      "cell_type": "code",
      "source": [
        "plt.plot(range(epoch_counter), acc_train_hist, 'r-', label='Train')\n",
        "plt.plot(range(epoch_counter), acc_valid_hist, 'b-', label='Validation')\n",
        "\n",
        "plt.xlabel('Epoch')\n",
        "plt.ylabel('Acc')\n",
        "plt.grid(True)\n",
        "plt.legend()"
      ],
      "metadata": {
        "id": "dUgt-mWsOqhB",
        "colab": {
          "base_uri": "https://localhost:8080/",
          "height": 297
        },
        "outputId": "bdc75150-dc9a-4ada-b643-47fc722fcefa"
      },
      "execution_count": null,
      "outputs": [
        {
          "output_type": "execute_result",
          "data": {
            "text/plain": [
              "<matplotlib.legend.Legend at 0x2064b33cc10>"
            ]
          },
          "metadata": {},
          "execution_count": 159
        },
        {
          "output_type": "display_data",
          "data": {
            "text/plain": [
              "<Figure size 432x288 with 1 Axes>"
            ],
            "image/png": "[encoded data removed]"
          },
          "metadata": {
            "needs_background": "light"
          }
        }
      ]
    },
    {
      "cell_type": "markdown",
      "source": [
        "# **Runtime ⏲**"
      ],
      "metadata": {
        "id": "SNJPb0vscKP9"
      }
    },
    {
      "cell_type": "code",
      "source": [],
      "metadata": {
        "id": "ULuF7GMycYF7"
      },
      "execution_count": null,
      "outputs": []
    }
  ]
}
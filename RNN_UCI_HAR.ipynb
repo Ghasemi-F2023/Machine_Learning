{
  "nbformat": 4,
  "nbformat_minor": 0,
  "metadata": {
    "colab": {
      "provenance": [],
      "collapsed_sections": [
        "qL0K8Z91OMxx",
        "ubp9lSqgJUx7",
        "ELwgzDfGFXvr",
        "fQFlVvECeZsD",
        "OsNaqujTeiGx",
        "MHXCDiv6vVv0",
        "FpY1h4DZvHmc",
        "3aQRTc6n7-hi",
        "aBJu19_uvqWW",
        "-NBcJXJkfgUI",
        "FrY04rhP8Kw-",
        "IHsQ623pOs3J",
        "DY5JMY1Yftsr",
        "mbpEEA0g1-Be",
        "B_LljZFVAFPA",
        "9csGqnCvtFAS",
        "lpJ3wtyctQJH",
        "BrHQCv7q7LF_",
        "BLT4w0ZfAhlJ",
        "uC2GhaXfA8vC",
        "oBW2SLfEEkCp",
        "oK20iNRI3Xxb"
      ]
    },
    "kernelspec": {
      "name": "python3",
      "display_name": "Python 3"
    },
    "language_info": {
      "name": "python"
    },
    "gpuClass": "standard"
  },
  "cells": [
    {
      "cell_type": "markdown",
      "source": [
        "# **Google Drive**"
      ],
      "metadata": {
        "id": "qL0K8Z91OMxx"
      }
    },
    {
      "cell_type": "code",
      "source": [
        "from google.colab import drive\n",
        "drive.mount('/content/drive')"
      ],
      "metadata": {
        "colab": {
          "base_uri": "https://localhost:8080/"
        },
        "id": "15iVUBqk9Fyo",
        "outputId": "1c52d466-11ee-43d7-b028-e5457559e997"
      },
      "execution_count": null,
      "outputs": [
        {
          "output_type": "stream",
          "name": "stdout",
          "text": [
            "Mounted at /content/drive\n"
          ]
        }
      ]
    },
    {
      "cell_type": "markdown",
      "source": [
        "##**GPU**"
      ],
      "metadata": {
        "id": "ubp9lSqgJUx7"
      }
    },
    {
      "cell_type": "markdown",
      "source": [
        "jupyter notebook --NotebookApp.allow_origin='https://colab.research.google.com' --port=4000 --NotebookApp.port_retries=0"
      ],
      "metadata": {
        "id": "qMUndHRpXT6B"
      }
    },
    {
      "cell_type": "code",
      "source": [
        "!nvidia-smi"
      ],
      "metadata": {
        "id": "FvB2dRFFJZqK",
        "colab": {
          "base_uri": "https://localhost:8080/"
        },
        "outputId": "6efed319-b6bf-4aa4-b8d9-98ce7c0df0a0"
      },
      "execution_count": null,
      "outputs": [
        {
          "output_type": "stream",
          "name": "stdout",
          "text": [
            "NVIDIA-SMI has failed because it couldn't communicate with the NVIDIA driver. Make sure that the latest NVIDIA driver is installed and running.\n",
            "\n"
          ]
        }
      ]
    },
    {
      "cell_type": "markdown",
      "source": [
        "# **Install**"
      ],
      "metadata": {
        "id": "ELwgzDfGFXvr"
      }
    },
    {
      "cell_type": "code",
      "source": [
        "!pip install torchmetrics"
      ],
      "metadata": {
        "id": "dQ9OIgAs4iWa",
        "colab": {
          "base_uri": "https://localhost:8080/"
        },
        "outputId": "a262aae7-c057-479f-dda7-a4f037f64ecb"
      },
      "execution_count": null,
      "outputs": [
        {
          "output_type": "stream",
          "name": "stdout",
          "text": [
            "Looking in indexes: https://pypi.org/simple, https://us-python.pkg.dev/colab-wheels/public/simple/\n",
            "Collecting torchmetrics\n",
            "  Downloading torchmetrics-0.10.0-py3-none-any.whl (529 kB)\n",
            "\u001b[K     |████████████████████████████████| 529 kB 5.0 MB/s \n",
            "\u001b[?25hRequirement already satisfied: numpy>=1.17.2 in /usr/local/lib/python3.7/dist-packages (from torchmetrics) (1.21.6)\n",
            "Requirement already satisfied: torch>=1.3.1 in /usr/local/lib/python3.7/dist-packages (from torchmetrics) (1.12.1+cu113)\n",
            "Requirement already satisfied: typing-extensions in /usr/local/lib/python3.7/dist-packages (from torchmetrics) (4.1.1)\n",
            "Requirement already satisfied: packaging in /usr/local/lib/python3.7/dist-packages (from torchmetrics) (21.3)\n",
            "Requirement already satisfied: pyparsing!=3.0.5,>=2.0.2 in /usr/local/lib/python3.7/dist-packages (from packaging->torchmetrics) (3.0.9)\n",
            "Installing collected packages: torchmetrics\n",
            "Successfully installed torchmetrics-0.10.0\n"
          ]
        }
      ]
    },
    {
      "cell_type": "markdown",
      "source": [
        "# **Imports 📢**"
      ],
      "metadata": {
        "id": "fQFlVvECeZsD"
      }
    },
    {
      "cell_type": "code",
      "execution_count": null,
      "metadata": {
        "id": "Jnc2LOc9eRjD"
      },
      "outputs": [],
      "source": [
        "import torch\n",
        "import torch.nn as nn\n",
        "import torch.optim as optim\n",
        "import torch.nn.functional as F\n",
        "from torch.utils.data import TensorDataset, DataLoader, random_split\n",
        "import torch.backends.cudnn as cudnn\n",
        "\n",
        "import torchvision\n",
        "from torchvision.datasets import CIFAR10\n",
        "from torchvision import transforms as T\n",
        "\n",
        "from sklearn.model_selection import train_test_split\n",
        "import matplotlib.pyplot as plt\n",
        "import numpy as np\n",
        "import pandas as pd\n",
        "\n",
        "from torchmetrics import Accuracy\n",
        "from tqdm import tqdm\n",
        "\n",
        "import glob"
      ]
    },
    {
      "cell_type": "code",
      "source": [
        "torch.__version__"
      ],
      "metadata": {
        "colab": {
          "base_uri": "https://localhost:8080/",
          "height": 35
        },
        "id": "P2uEBcARlREb",
        "outputId": "43d7c66c-7240-41ff-cae9-9c7b139d59fe"
      },
      "execution_count": null,
      "outputs": [
        {
          "output_type": "execute_result",
          "data": {
            "text/plain": [
              "'1.12.1+cu113'"
            ],
            "application/vnd.google.colaboratory.intrinsic+json": {
              "type": "string"
            }
          },
          "metadata": {},
          "execution_count": 4
        }
      ]
    },
    {
      "cell_type": "markdown",
      "source": [
        "# **Dataset 🗂️**"
      ],
      "metadata": {
        "id": "OsNaqujTeiGx"
      }
    },
    {
      "cell_type": "markdown",
      "source": [
        "## Load dataset"
      ],
      "metadata": {
        "id": "MHXCDiv6vVv0"
      }
    },
    {
      "cell_type": "code",
      "source": [
        "!cp '/content/drive/MyDrive/deep-learning-2022-howsam/session-6-rnn/UCI HAR Dataset.zip' /content/"
      ],
      "metadata": {
        "id": "awyMQRDMfP_O"
      },
      "execution_count": null,
      "outputs": []
    },
    {
      "cell_type": "code",
      "source": [
        "!unzip /content/UCI\\ HAR\\ Dataset.zip"
      ],
      "metadata": {
        "id": "zXBcQr5yfWrK"
      },
      "execution_count": null,
      "outputs": []
    },
    {
      "cell_type": "code",
      "source": [
        "def har_dataset(phase):\n",
        "  x = []\n",
        "  data_dir = f'/content/UCI HAR Dataset/{phase}/Inertial Signals/*'\n",
        "  for file_dir in glob.glob(data_dir):\n",
        "    x.append(np.loadtxt(file_dir))\n",
        "  y = np.loadtxt(f'/content/UCI HAR Dataset/{phase}/y_{phase}.txt')\n",
        "  #\n",
        "  x = torch.FloatTensor(x).permute(1, 2, 0)\n",
        "  y = torch.LongTensor(y) - 1\n",
        "  return x, y"
      ],
      "metadata": {
        "id": "h5BiuwkInC4O"
      },
      "execution_count": null,
      "outputs": []
    },
    {
      "cell_type": "code",
      "source": [
        "x_train, y_train = har_dataset('train')\n",
        "x_test, y_test = har_dataset('test')"
      ],
      "metadata": {
        "id": "rgh2qOJLnsy5"
      },
      "execution_count": null,
      "outputs": []
    },
    {
      "cell_type": "code",
      "source": [
        "x_train.shape, y_train.shape"
      ],
      "metadata": {
        "colab": {
          "base_uri": "https://localhost:8080/"
        },
        "id": "I4rzI_aBZc1n",
        "outputId": "df94593a-9ca2-4557-f33c-487aa4fe8a9e"
      },
      "execution_count": null,
      "outputs": [
        {
          "output_type": "execute_result",
          "data": {
            "text/plain": [
              "(torch.Size([7352, 128, 9]), torch.Size([7352]))"
            ]
          },
          "metadata": {},
          "execution_count": 13
        }
      ]
    },
    {
      "cell_type": "code",
      "source": [
        "x_test.shape, y_test.shape"
      ],
      "metadata": {
        "colab": {
          "base_uri": "https://localhost:8080/"
        },
        "id": "ST1j1DIwpUkr",
        "outputId": "409ced4c-1c74-4c9a-c104-528ec7bc4d64"
      },
      "execution_count": null,
      "outputs": [
        {
          "output_type": "execute_result",
          "data": {
            "text/plain": [
              "(torch.Size([2947, 128, 9]), torch.Size([2947]))"
            ]
          },
          "metadata": {},
          "execution_count": 14
        }
      ]
    },
    {
      "cell_type": "code",
      "source": [
        "y_train, y_test"
      ],
      "metadata": {
        "colab": {
          "base_uri": "https://localhost:8080/"
        },
        "id": "ekH_2S4Eo_Bm",
        "outputId": "4df71a57-1217-4656-c07b-34c0b9b86883"
      },
      "execution_count": null,
      "outputs": [
        {
          "output_type": "execute_result",
          "data": {
            "text/plain": [
              "(tensor([4, 4, 4,  ..., 1, 1, 1]), tensor([4, 4, 4,  ..., 1, 1, 1]))"
            ]
          },
          "metadata": {},
          "execution_count": 15
        }
      ]
    },
    {
      "cell_type": "code",
      "source": [
        "torch.unique(y_test)"
      ],
      "metadata": {
        "colab": {
          "base_uri": "https://localhost:8080/"
        },
        "id": "ASX5bAP-14Cv",
        "outputId": "d3440d2c-05c7-49aa-cb3f-985d3a1041a4"
      },
      "execution_count": null,
      "outputs": [
        {
          "output_type": "execute_result",
          "data": {
            "text/plain": [
              "tensor([0, 1, 2, 3, 4, 5])"
            ]
          },
          "metadata": {},
          "execution_count": 16
        }
      ]
    },
    {
      "cell_type": "markdown",
      "source": [
        "## TensorDataset"
      ],
      "metadata": {
        "id": "FpY1h4DZvHmc"
      }
    },
    {
      "cell_type": "code",
      "source": [
        "train_set = TensorDataset(x_train, y_train)\n",
        "test_set = TensorDataset(x_test, y_test)"
      ],
      "metadata": {
        "id": "q-1IcLDEqtzp"
      },
      "execution_count": null,
      "outputs": []
    },
    {
      "cell_type": "code",
      "source": [
        "train_set, test_set = random_split(train_set, (5000, x_train.shape[0]-5000))"
      ],
      "metadata": {
        "id": "Fy3SIaOOpYn8"
      },
      "execution_count": null,
      "outputs": []
    },
    {
      "cell_type": "markdown",
      "source": [
        "## DataLoader"
      ],
      "metadata": {
        "id": "3aQRTc6n7-hi"
      }
    },
    {
      "cell_type": "code",
      "source": [
        "train_loader = DataLoader(train_set, batch_size=64, shuffle=True)\n",
        "test_loader = DataLoader(test_set, batch_size=128, shuffle=False)"
      ],
      "metadata": {
        "id": "MWf29MbO79gp"
      },
      "execution_count": null,
      "outputs": []
    },
    {
      "cell_type": "code",
      "source": [
        "x, y = next(iter(train_loader))\n",
        "print(x.shape)\n",
        "print(y.shape)"
      ],
      "metadata": {
        "colab": {
          "base_uri": "https://localhost:8080/"
        },
        "id": "gBAeQLxJusuD",
        "outputId": "3831d35d-691a-4a87-864c-71887c1335ee"
      },
      "execution_count": null,
      "outputs": [
        {
          "output_type": "stream",
          "name": "stdout",
          "text": [
            "torch.Size([64, 128, 9])\n",
            "torch.Size([64])\n"
          ]
        }
      ]
    },
    {
      "cell_type": "markdown",
      "source": [
        "## Visulaize"
      ],
      "metadata": {
        "id": "aBJu19_uvqWW"
      }
    },
    {
      "cell_type": "code",
      "source": [
        "plt.plot(x[0])"
      ],
      "metadata": {
        "colab": {
          "base_uri": "https://localhost:8080/"
        },
        "id": "fg2QaG5EvbRz",
        "outputId": "f0677608-60c3-48d1-f07a-9c2496f601c6"
      },
      "execution_count": null,
      "outputs": [
        {
          "output_type": "execute_result",
          "data": {
            "text/plain": [
              "[<matplotlib.lines.Line2D at 0x7f1f346c7610>,\n",
              " <matplotlib.lines.Line2D at 0x7f1f346c77d0>,\n",
              " <matplotlib.lines.Line2D at 0x7f1f346c7990>,\n",
              " <matplotlib.lines.Line2D at 0x7f1f346c7b50>,\n",
              " <matplotlib.lines.Line2D at 0x7f1f346c7d10>,\n",
              " <matplotlib.lines.Line2D at 0x7f1f346c7ed0>,\n",
              " <matplotlib.lines.Line2D at 0x7f1f346d3150>,\n",
              " <matplotlib.lines.Line2D at 0x7f1f346d3310>,\n",
              " <matplotlib.lines.Line2D at 0x7f1f346c7cd0>]"
            ]
          },
          "metadata": {},
          "execution_count": 20
        },
        {
          "output_type": "display_data",
          "data": {
            "text/plain": [
              "<Figure size 432x288 with 1 Axes>"
            ],
            "image/png": "[encoded data removed]"
          },
          "metadata": {
            "needs_background": "light"
          }
        }
      ]
    },
    {
      "cell_type": "markdown",
      "source": [
        "# **Model 🧠**"
      ],
      "metadata": {
        "id": "-NBcJXJkfgUI"
      }
    },
    {
      "cell_type": "code",
      "source": [
        "model = nn.RNN(input_size=9, hidden_size=32, num_layers=4,\n",
        "       nonlinearity='tanh', bias=True, batch_first=True, dropout=0.,\n",
        "       bidirectional=True)"
      ],
      "metadata": {
        "id": "yTrV_JO9ozz-"
      },
      "execution_count": null,
      "outputs": []
    },
    {
      "cell_type": "code",
      "source": [
        "model.parameters()\n",
        "model.weight_hh_l0"
      ],
      "metadata": {
        "colab": {
          "base_uri": "https://localhost:8080/"
        },
        "id": "Aj7Hoh8-tgt0",
        "outputId": "51c938e1-0b67-4d13-8e4a-a29580106643"
      },
      "execution_count": null,
      "outputs": [
        {
          "output_type": "execute_result",
          "data": {
            "text/plain": [
              "Parameter containing:\n",
              "tensor([[ 0.0225, -0.1041,  0.0191,  ...,  0.1396,  0.0414, -0.1395],\n",
              "        [-0.0579, -0.0686,  0.1676,  ..., -0.1166, -0.0717, -0.0844],\n",
              "        [-0.0424, -0.0599, -0.1269,  ..., -0.1727, -0.0603, -0.0410],\n",
              "        ...,\n",
              "        [ 0.1258,  0.1710,  0.1646,  ...,  0.0564,  0.0276,  0.1019],\n",
              "        [ 0.1357,  0.1013,  0.1413,  ...,  0.1591, -0.1540,  0.0537],\n",
              "        [-0.0244,  0.1551, -0.0570,  ...,  0.0763, -0.1582,  0.1554]],\n",
              "       requires_grad=True)"
            ]
          },
          "metadata": {},
          "execution_count": 77
        }
      ]
    },
    {
      "cell_type": "code",
      "source": [
        "outputs, hn = model(x)"
      ],
      "metadata": {
        "id": "De_VZt0quOm6"
      },
      "execution_count": null,
      "outputs": []
    },
    {
      "cell_type": "code",
      "source": [
        "hn.shape"
      ],
      "metadata": {
        "colab": {
          "base_uri": "https://localhost:8080/"
        },
        "id": "KzM4sL4jvUWD",
        "outputId": "28780167-02e9-40bc-896c-7a0035dcc44a"
      },
      "execution_count": null,
      "outputs": [
        {
          "output_type": "execute_result",
          "data": {
            "text/plain": [
              "torch.Size([8, 64, 32])"
            ]
          },
          "metadata": {},
          "execution_count": 83
        }
      ]
    },
    {
      "cell_type": "code",
      "source": [
        "outputs.shape"
      ],
      "metadata": {
        "colab": {
          "base_uri": "https://localhost:8080/"
        },
        "id": "V3lS9ll1vike",
        "outputId": "8418342d-8b5e-4941-9fbb-0adcbe18c44d"
      },
      "execution_count": null,
      "outputs": [
        {
          "output_type": "execute_result",
          "data": {
            "text/plain": [
              "torch.Size([64, 128, 32])"
            ]
          },
          "metadata": {},
          "execution_count": 68
        }
      ]
    },
    {
      "cell_type": "code",
      "source": [
        "print(outputs[0, -1])\n",
        "print(hn[0, 0])"
      ],
      "metadata": {
        "colab": {
          "base_uri": "https://localhost:8080/"
        },
        "id": "x8Lmzei4v0vn",
        "outputId": "adeeef49-6dd6-4b07-fc37-16acb7cda1ca"
      },
      "execution_count": null,
      "outputs": [
        {
          "output_type": "stream",
          "name": "stdout",
          "text": [
            "tensor([ 0.2724,  0.2118, -0.1106,  0.3287, -0.2012, -0.0943,  0.1618, -0.0289,\n",
            "        -0.1722, -0.0290, -0.0455, -0.0780,  0.1671, -0.1604,  0.4012, -0.0396,\n",
            "         0.0622, -0.1166, -0.0662,  0.1319,  0.1250,  0.1033,  0.2139, -0.1565,\n",
            "        -0.1988,  0.0355, -0.2851,  0.0419,  0.3349, -0.1246,  0.2685,  0.2193],\n",
            "       grad_fn=<SelectBackward0>)\n",
            "tensor([ 0.2724,  0.2118, -0.1106,  0.3287, -0.2012, -0.0943,  0.1618, -0.0289,\n",
            "        -0.1722, -0.0290, -0.0455, -0.0780,  0.1671, -0.1604,  0.4012, -0.0396,\n",
            "         0.0622, -0.1166, -0.0662,  0.1319,  0.1250,  0.1033,  0.2139, -0.1565,\n",
            "        -0.1988,  0.0355, -0.2851,  0.0419,  0.3349, -0.1246,  0.2685,  0.2193],\n",
            "       grad_fn=<SelectBackward0>)\n"
          ]
        }
      ]
    },
    {
      "cell_type": "code",
      "source": [
        "outputs, hn = model(x, torch.zeros(8, 64, 32))"
      ],
      "metadata": {
        "id": "4w3NFuZMwaNz"
      },
      "execution_count": null,
      "outputs": []
    },
    {
      "cell_type": "code",
      "source": [
        "outputs.shape"
      ],
      "metadata": {
        "colab": {
          "base_uri": "https://localhost:8080/"
        },
        "id": "OvQeASgMxr1j",
        "outputId": "72efc0ba-ce7c-4eab-c69a-c41c25d227f6"
      },
      "execution_count": null,
      "outputs": [
        {
          "output_type": "execute_result",
          "data": {
            "text/plain": [
              "torch.Size([64, 128, 64])"
            ]
          },
          "metadata": {},
          "execution_count": 88
        }
      ]
    },
    {
      "cell_type": "code",
      "source": [
        "outputs[:, -1].shape"
      ],
      "metadata": {
        "colab": {
          "base_uri": "https://localhost:8080/"
        },
        "id": "miJJ0yN0yQsd",
        "outputId": "da197ffa-ac92-4ad7-ec76-8d6f95c365b2"
      },
      "execution_count": null,
      "outputs": [
        {
          "output_type": "execute_result",
          "data": {
            "text/plain": [
              "torch.Size([64, 64])"
            ]
          },
          "metadata": {},
          "execution_count": 89
        }
      ]
    },
    {
      "cell_type": "code",
      "source": [
        "model = nn.Sequential(nn.RNN(input_size=9, hidden_size=32, num_layers=4,\n",
        "                             nonlinearity='tanh', bias=True, batch_first=True, dropout=0.,\n",
        "                             bidirectional=True),\n",
        "                      nn.Linear(64, 6))"
      ],
      "metadata": {
        "id": "Zj45KM38yq-R"
      },
      "execution_count": null,
      "outputs": []
    },
    {
      "cell_type": "code",
      "source": [
        "model(x)"
      ],
      "metadata": {
        "id": "lgWFHTgbysKU"
      },
      "execution_count": null,
      "outputs": []
    },
    {
      "cell_type": "markdown",
      "source": [
        "## Newwwww!"
      ],
      "metadata": {
        "id": "FrY04rhP8Kw-"
      }
    },
    {
      "cell_type": "code",
      "source": [
        "class RNNModel(nn.Module):\n",
        "  def __init__(self, ):\n",
        "    super().__init__()\n",
        "    pass\n",
        "\n",
        "  def forward(self, x):\n",
        "    return y"
      ],
      "metadata": {
        "id": "XN2JiwEM29Rm"
      },
      "execution_count": null,
      "outputs": []
    },
    {
      "cell_type": "code",
      "source": [
        "class RNNModel(nn.Module):\n",
        "  def __init__(self, ):\n",
        "    super().__init__()\n",
        "    self.fc1 = nn.Linear(4, 32)\n",
        "    self.bn1 = nn.BatchNorm1d(32)\n",
        "    self.fc2 = nn.Linear(32, 1)\n",
        "\n",
        "  def forward(self, x):\n",
        "    y = torch.relu(self.bn1(self.fc1(x)))\n",
        "    y = self.fc2(y)\n",
        "    y = torch.sigmoid(y)\n",
        "    return y"
      ],
      "metadata": {
        "id": "VobdeFei5n_H"
      },
      "execution_count": null,
      "outputs": []
    },
    {
      "cell_type": "code",
      "source": [
        "model = RNNModel()\n",
        "model"
      ],
      "metadata": {
        "colab": {
          "base_uri": "https://localhost:8080/"
        },
        "id": "dlaYe-GE7ZKT",
        "outputId": "96071fc0-ad78-4c4c-c434-9e6a14222e02"
      },
      "execution_count": null,
      "outputs": [
        {
          "output_type": "execute_result",
          "data": {
            "text/plain": [
              "RNNModel(\n",
              "  (fc1): Linear(in_features=4, out_features=32, bias=True)\n",
              "  (bn1): BatchNorm1d(32, eps=1e-05, momentum=0.1, affine=True, track_running_stats=True)\n",
              "  (fc2): Linear(in_features=32, out_features=1, bias=True)\n",
              ")"
            ]
          },
          "metadata": {},
          "execution_count": 111
        }
      ]
    },
    {
      "cell_type": "code",
      "source": [
        "model(torch.randn(3, 4))"
      ],
      "metadata": {
        "colab": {
          "base_uri": "https://localhost:8080/"
        },
        "id": "UTbUQ9BB7qIt",
        "outputId": "2f5275f2-99c0-4e90-cf21-3dde4f72ed88"
      },
      "execution_count": null,
      "outputs": [
        {
          "output_type": "execute_result",
          "data": {
            "text/plain": [
              "tensor([[0.5919],\n",
              "        [0.4445],\n",
              "        [0.4703]], grad_fn=<SigmoidBackward0>)"
            ]
          },
          "metadata": {},
          "execution_count": 112
        }
      ]
    },
    {
      "cell_type": "code",
      "source": [
        "nn.Module()"
      ],
      "metadata": {
        "colab": {
          "base_uri": "https://localhost:8080/"
        },
        "id": "nlAHWWSfFjWL",
        "outputId": "2b178c74-a4a2-4110-a401-b56625fd8d3e"
      },
      "execution_count": null,
      "outputs": [
        {
          "output_type": "execute_result",
          "data": {
            "text/plain": [
              "Module()"
            ]
          },
          "metadata": {},
          "execution_count": 161
        }
      ]
    },
    {
      "cell_type": "code",
      "source": [
        "class RNNModel(nn.Module):\n",
        "  def __init__(self, ):\n",
        "    super().__init__()\n",
        "    self.fc1 = nn.Linear(4, 32)\n",
        "    self.fc2 = nn.Linear(32, 64)\n",
        "    self.fc3 = nn.Linear(32, 64)\n",
        "\n",
        "  def forward(self, x):\n",
        "    y1 = self.fc1(x)\n",
        "    y2 = self.fc2(y1)\n",
        "    y3 = self.fc3(y1)\n",
        "    y = y2 + y3\n",
        "    return y, y1"
      ],
      "metadata": {
        "id": "cylnvwLG8qvY"
      },
      "execution_count": null,
      "outputs": []
    },
    {
      "cell_type": "code",
      "source": [
        "model = RNNModel()\n",
        "model"
      ],
      "metadata": {
        "colab": {
          "base_uri": "https://localhost:8080/"
        },
        "id": "YLNEtEkT9k7l",
        "outputId": "f56c6c54-7ef7-4e82-d643-13b00c74c523"
      },
      "execution_count": null,
      "outputs": [
        {
          "output_type": "execute_result",
          "data": {
            "text/plain": [
              "RNNModel(\n",
              "  (fc1): Linear(in_features=4, out_features=32, bias=True)\n",
              "  (fc2): Linear(in_features=32, out_features=64, bias=True)\n",
              "  (fc3): Linear(in_features=32, out_features=64, bias=True)\n",
              ")"
            ]
          },
          "metadata": {},
          "execution_count": 114
        }
      ]
    },
    {
      "cell_type": "code",
      "source": [
        "a, b = model(torch.randn(3, 4))\n",
        "a.shape, b.shape"
      ],
      "metadata": {
        "colab": {
          "base_uri": "https://localhost:8080/"
        },
        "id": "XFMGtqRN9os2",
        "outputId": "8e3a96a9-1fe7-4143-e7b4-62dba72e583a"
      },
      "execution_count": null,
      "outputs": [
        {
          "output_type": "execute_result",
          "data": {
            "text/plain": [
              "(torch.Size([3, 64]), torch.Size([3, 32]))"
            ]
          },
          "metadata": {},
          "execution_count": 117
        }
      ]
    },
    {
      "cell_type": "markdown",
      "source": [
        "## RNN"
      ],
      "metadata": {
        "id": "jx-xVNnf-YII"
      }
    },
    {
      "cell_type": "code",
      "source": [
        "class RNNModel(nn.Module):\n",
        "  def __init__(self, input_size, hidden_size, num_layers, bidirectional, num_cls):\n",
        "    super().__init__()\n",
        "    self.rnn = nn.RNN(input_size=input_size,\n",
        "                      hidden_size=hidden_size,\n",
        "                      num_layers=num_layers,\n",
        "                      bidirectional=bidirectional,\n",
        "                      batch_first=True)\n",
        "    # hidden_size = hidden_size * 2 if bidirectional else hidden_size\n",
        "    # self.fc = nn.Linear(hidden_size, num_cls)\n",
        "    self.fc = nn.LazyLinear(num_cls)\n",
        "\n",
        "  def forward(self, x):\n",
        "    outputs, _ = self.rnn(x)\n",
        "    # print(outputs.shape, hn.shape)\n",
        "    # y = self.fc(outputs[:, -1]) # out: one\n",
        "    # outputs = outputs.flatten(1)\n",
        "    y = self.fc(outputs) # out: many\n",
        "    y = y.mean(dim=1)\n",
        "    return y"
      ],
      "metadata": {
        "id": "Z4rO7cNX-W7I"
      },
      "execution_count": null,
      "outputs": []
    },
    {
      "cell_type": "code",
      "source": [
        "model = RNNModel(9, 32, 1, False, 6)\n",
        "model"
      ],
      "metadata": {
        "colab": {
          "base_uri": "https://localhost:8080/"
        },
        "id": "sQpA5DZd_yPi",
        "outputId": "ef6d70c6-bd78-43ad-ce8a-2c69b2e186ff"
      },
      "execution_count": null,
      "outputs": [
        {
          "output_type": "stream",
          "name": "stderr",
          "text": [
            "/usr/local/lib/python3.7/dist-packages/torch/nn/modules/lazy.py:178: UserWarning: Lazy modules are a new feature under heavy development so changes to the API or functionality can happen at any moment.\n",
            "  warnings.warn('Lazy modules are a new feature under heavy development '\n"
          ]
        },
        {
          "output_type": "execute_result",
          "data": {
            "text/plain": [
              "RNNModel(\n",
              "  (rnn): RNN(9, 32, batch_first=True)\n",
              "  (fc): LazyLinear(in_features=0, out_features=6, bias=True)\n",
              ")"
            ]
          },
          "metadata": {},
          "execution_count": 22
        }
      ]
    },
    {
      "cell_type": "code",
      "source": [
        "model(torch.randn(2, 128, 9)).shape"
      ],
      "metadata": {
        "colab": {
          "base_uri": "https://localhost:8080/"
        },
        "id": "cJlp_QG-UOsH",
        "outputId": "b583b4a3-be4f-4f09-cb80-77783f70019b"
      },
      "execution_count": null,
      "outputs": [
        {
          "output_type": "execute_result",
          "data": {
            "text/plain": [
              "torch.Size([2, 6])"
            ]
          },
          "metadata": {},
          "execution_count": 23
        }
      ]
    },
    {
      "cell_type": "code",
      "source": [
        "model.fc.weight.shape"
      ],
      "metadata": {
        "id": "Iwsk2HUc_9JE",
        "colab": {
          "base_uri": "https://localhost:8080/"
        },
        "outputId": "5a275ede-a2e3-45e9-a7ea-3e0e047dd935"
      },
      "execution_count": null,
      "outputs": [
        {
          "output_type": "execute_result",
          "data": {
            "text/plain": [
              "torch.Size([6, 32])"
            ]
          },
          "metadata": {},
          "execution_count": 24
        }
      ]
    },
    {
      "cell_type": "code",
      "source": [
        "model(x).shape"
      ],
      "metadata": {
        "id": "xTPeugBqAI2o",
        "colab": {
          "base_uri": "https://localhost:8080/"
        },
        "outputId": "d803c034-10c0-415b-a910-63b8483e2696"
      },
      "execution_count": null,
      "outputs": [
        {
          "output_type": "execute_result",
          "data": {
            "text/plain": [
              "torch.Size([64, 6])"
            ]
          },
          "metadata": {},
          "execution_count": 25
        }
      ]
    },
    {
      "cell_type": "code",
      "source": [
        "model.parameters()"
      ],
      "metadata": {
        "colab": {
          "base_uri": "https://localhost:8080/"
        },
        "id": "ng7KYBhZEefG",
        "outputId": "8363caba-cc3b-4d16-b33d-5f86daa9d085"
      },
      "execution_count": null,
      "outputs": [
        {
          "output_type": "execute_result",
          "data": {
            "text/plain": [
              "<generator object Module.parameters at 0x7f1f357b4f50>"
            ]
          },
          "metadata": {},
          "execution_count": 26
        }
      ]
    },
    {
      "cell_type": "code",
      "source": [
        "optimizer = optim.Adam(model.parameters())"
      ],
      "metadata": {
        "id": "g0wCy2kQEkV9"
      },
      "execution_count": null,
      "outputs": []
    },
    {
      "cell_type": "markdown",
      "source": [
        "## Params"
      ],
      "metadata": {
        "id": "IHsQ623pOs3J"
      }
    },
    {
      "cell_type": "code",
      "source": [
        "def num_params(model, k=1e6):\n",
        "  nums = sum(p.numel() for p in model.parameters())/k\n",
        "  return nums"
      ],
      "metadata": {
        "id": "K_JNWs7q0m1h"
      },
      "execution_count": null,
      "outputs": []
    },
    {
      "cell_type": "code",
      "source": [
        "num_params(model, 1e3)"
      ],
      "metadata": {
        "colab": {
          "base_uri": "https://localhost:8080/"
        },
        "id": "VaBa7Ao90-66",
        "outputId": "07325a3d-6e91-4cb7-fafe-60527660b768"
      },
      "execution_count": null,
      "outputs": [
        {
          "output_type": "execute_result",
          "data": {
            "text/plain": [
              "1.574"
            ]
          },
          "metadata": {},
          "execution_count": 29
        }
      ]
    },
    {
      "cell_type": "markdown",
      "source": [
        "# **Device ⚙️**"
      ],
      "metadata": {
        "id": "DY5JMY1Yftsr"
      }
    },
    {
      "cell_type": "code",
      "source": [
        "device = 'cuda' if torch.cuda.is_available() else 'cpu'\n",
        "device"
      ],
      "metadata": {
        "id": "Ce6_MpTcfrGi",
        "colab": {
          "base_uri": "https://localhost:8080/"
        },
        "outputId": "869a13a3-dbcf-453b-ab42-6f2c6c62a052"
      },
      "execution_count": null,
      "outputs": [
        {
          "output_type": "execute_result",
          "data": {
            "text/plain": [
              "'cpu'"
            ],
            "application/vnd.google.colaboratory.intrinsic+json": {
              "type": "string"
            }
          },
          "metadata": {},
          "execution_count": 30
        }
      ]
    },
    {
      "cell_type": "markdown",
      "source": [
        "# **Utils 🧰**"
      ],
      "metadata": {
        "id": "mbpEEA0g1-Be"
      }
    },
    {
      "cell_type": "code",
      "source": [
        "class AverageMeter(object):\n",
        "    \"\"\"Computes and stores the average and current value\"\"\"\n",
        "    def __init__(self):\n",
        "        self.reset()\n",
        "\n",
        "    def reset(self):\n",
        "        self.val = 0\n",
        "        self.avg = 0\n",
        "        self.sum = 0\n",
        "        self.count = 0\n",
        "\n",
        "    def update(self, val, n=1):\n",
        "        self.val = val\n",
        "        self.sum += val * n\n",
        "        self.count += n\n",
        "        self.avg = self.sum / self.count"
      ],
      "metadata": {
        "id": "G6s889_UrqDT"
      },
      "execution_count": null,
      "outputs": []
    },
    {
      "cell_type": "markdown",
      "source": [
        "# **Functions** 🧮"
      ],
      "metadata": {
        "id": "B_LljZFVAFPA"
      }
    },
    {
      "cell_type": "code",
      "source": [
        "def train_one_epoch(model, train_loader, loss_fn, optimizer, epoch=None):\n",
        "  model.train()\n",
        "  loss_train = AverageMeter()\n",
        "  acc_train = Accuracy().to(device)\n",
        "  with tqdm(train_loader, unit=\"batch\") as tepoch:\n",
        "    for inputs, targets in tepoch:\n",
        "      if epoch is not None:\n",
        "        tepoch.set_description(f\"Epoch {epoch}\")\n",
        "      inputs = inputs.to(device)\n",
        "      targets = targets.to(device)\n",
        "\n",
        "      outputs = model(inputs)\n",
        "\n",
        "      loss = loss_fn(outputs, targets)\n",
        "\n",
        "      loss.backward()\n",
        "      torch.nn.utils.clip_grad_norm_(model.parameters(), 0.5)\n",
        "\n",
        "      optimizer.step()\n",
        "      optimizer.zero_grad()\n",
        "\n",
        "      loss_train.update(loss.item())\n",
        "      acc_train(outputs, targets.int())\n",
        "      tepoch.set_postfix(loss=loss_train.avg,\n",
        "                         accuracy=100.*acc_train.compute().item())\n",
        "  return model, loss_train.avg, acc_train.compute().item()"
      ],
      "metadata": {
        "id": "4W9MVeEqAYiq"
      },
      "execution_count": null,
      "outputs": []
    },
    {
      "cell_type": "code",
      "source": [
        "def validation(model, test_loader, loss_fn):\n",
        "  model.eval()\n",
        "  with torch.no_grad():\n",
        "    loss_valid = AverageMeter()\n",
        "    acc_valid = Accuracy().to(device)\n",
        "    for i, (inputs, targets) in enumerate(test_loader):\n",
        "      inputs = inputs.to(device)\n",
        "      targets = targets.to(device)\n",
        "\n",
        "      outputs = model(inputs)\n",
        "      loss = loss_fn(outputs, targets)\n",
        "\n",
        "      loss_valid.update(loss.item())\n",
        "      acc_valid(outputs, targets.int())\n",
        "  return loss_valid.avg, acc_valid.compute().item()"
      ],
      "metadata": {
        "id": "ZEoGrXwZAaym"
      },
      "execution_count": null,
      "outputs": []
    },
    {
      "cell_type": "markdown",
      "source": [
        "# **Efficient way for set hyperparams 🔨**"
      ],
      "metadata": {
        "id": "9csGqnCvtFAS"
      }
    },
    {
      "cell_type": "markdown",
      "source": [
        "## Step 1: check forward path\n",
        "\n",
        "Calculate loss for one batch"
      ],
      "metadata": {
        "id": "lpJ3wtyctQJH"
      }
    },
    {
      "cell_type": "code",
      "source": [
        "model = RNNModel(9, 32, 1, False, 6).to(device)\n",
        "loss_fn = nn.CrossEntropyLoss()\n",
        "\n",
        "x_batch, y_batch = next(iter(train_loader))\n",
        "outputs = model(x_batch.to(device))\n",
        "loss = loss_fn(outputs, y_batch.to(device))\n",
        "print(loss)"
      ],
      "metadata": {
        "id": "QnE4F4GkzzaR",
        "colab": {
          "base_uri": "https://localhost:8080/"
        },
        "outputId": "d6a712bf-6085-43db-bc0f-104306f017ee"
      },
      "execution_count": null,
      "outputs": [
        {
          "output_type": "stream",
          "name": "stdout",
          "text": [
            "tensor(1.7989, grad_fn=<NllLossBackward0>)\n"
          ]
        }
      ]
    },
    {
      "cell_type": "markdown",
      "source": [
        "## Step 2: check backward path\n",
        "\n",
        "Select 5 random batches and train the model"
      ],
      "metadata": {
        "id": "BrHQCv7q7LF_"
      }
    },
    {
      "cell_type": "code",
      "source": [
        "_, mini_train_dataset = random_split(train_set, (len(train_set)-500, 500))\n",
        "mini_train_loader = DataLoader(mini_train_dataset, 20)"
      ],
      "metadata": {
        "id": "Jxz5DXoj61mg"
      },
      "execution_count": null,
      "outputs": []
    },
    {
      "cell_type": "code",
      "source": [
        "model = RNNModel(9, 32, 1, False, 6).to(device)\n",
        "loss_fn = nn.CrossEntropyLoss()"
      ],
      "metadata": {
        "id": "J8yz1meO_fUS",
        "colab": {
          "base_uri": "https://localhost:8080/"
        },
        "outputId": "ff4b634c-98d2-48b6-f519-ff904a459915"
      },
      "execution_count": null,
      "outputs": [
        {
          "output_type": "stream",
          "name": "stderr",
          "text": [
            "C:\\Users\\PC\\anaconda3\\envs\\howsam-deep\\lib\\site-packages\\torch\\nn\\modules\\lazy.py:178: UserWarning: Lazy modules are a new feature under heavy development so changes to the API or functionality can happen at any moment.\n",
            "  warnings.warn('Lazy modules are a new feature under heavy development '\n"
          ]
        }
      ]
    },
    {
      "cell_type": "code",
      "source": [
        "optimizer = optim.SGD(model.parameters(), lr=0.1)"
      ],
      "metadata": {
        "id": "g0AG7IWGEcdG"
      },
      "execution_count": null,
      "outputs": []
    },
    {
      "cell_type": "code",
      "source": [
        "num_epochs = 100\n",
        "for epoch in range(num_epochs):\n",
        "  model, _, _ = train_one_epoch(model, mini_train_loader, loss_fn, optimizer, epoch)"
      ],
      "metadata": {
        "id": "PK-P20hI3snf",
        "colab": {
          "base_uri": "https://localhost:8080/"
        },
        "outputId": "6c660788-d6af-4303-c57b-4e48157769fa"
      },
      "execution_count": null,
      "outputs": [
        {
          "output_type": "stream",
          "name": "stderr",
          "text": [
            "Epoch 0: 100%|████████████████████████████████████████████| 25/25 [00:00<00:00, 29.79batch/s, accuracy=21.2, loss=1.77]\n",
            "Epoch 1: 100%|███████████████████████████████████████████| 25/25 [00:00<00:00, 106.28batch/s, accuracy=36.4, loss=1.68]\n",
            "Epoch 2: 100%|███████████████████████████████████████████| 25/25 [00:00<00:00, 104.27batch/s, accuracy=38.2, loss=1.58]\n",
            "Epoch 3: 100%|████████████████████████████████████████████| 25/25 [00:00<00:00, 93.34batch/s, accuracy=42.8, loss=1.48]\n",
            "Epoch 4: 100%|███████████████████████████████████████████| 25/25 [00:00<00:00, 103.41batch/s, accuracy=44.2, loss=1.41]\n",
            "Epoch 5: 100%|███████████████████████████████████████████| 25/25 [00:00<00:00, 107.63batch/s, accuracy=45.2, loss=1.36]\n",
            "Epoch 6: 100%|███████████████████████████████████████████| 25/25 [00:00<00:00, 107.41batch/s, accuracy=45.4, loss=1.33]\n",
            "Epoch 7: 100%|████████████████████████████████████████████| 25/25 [00:00<00:00, 112.47batch/s, accuracy=46.4, loss=1.3]\n",
            "Epoch 8: 100%|█████████████████████████████████████████████| 25/25 [00:00<00:00, 110.94batch/s, accuracy=47, loss=1.28]\n",
            "Epoch 9: 100%|███████████████████████████████████████████| 25/25 [00:00<00:00, 118.32batch/s, accuracy=47.2, loss=1.26]\n",
            "Epoch 10: 100%|██████████████████████████████████████████| 25/25 [00:00<00:00, 116.40batch/s, accuracy=47.6, loss=1.24]\n",
            "Epoch 11: 100%|██████████████████████████████████████████| 25/25 [00:00<00:00, 111.22batch/s, accuracy=47.2, loss=1.23]\n",
            "Epoch 12: 100%|██████████████████████████████████████████| 25/25 [00:00<00:00, 106.94batch/s, accuracy=47.6, loss=1.22]\n",
            "Epoch 13: 100%|█████████████████████████████████████████████| 25/25 [00:00<00:00, 109.76batch/s, accuracy=48, loss=1.2]\n",
            "Epoch 14: 100%|████████████████████████████████████████████| 25/25 [00:00<00:00, 107.87batch/s, accuracy=49, loss=1.19]\n",
            "Epoch 15: 100%|██████████████████████████████████████████| 25/25 [00:00<00:00, 111.23batch/s, accuracy=49.6, loss=1.18]\n",
            "Epoch 16: 100%|███████████████████████████████████████████| 25/25 [00:00<00:00, 93.70batch/s, accuracy=50.2, loss=1.17]\n",
            "Epoch 17: 100%|███████████████████████████████████████████| 25/25 [00:00<00:00, 94.38batch/s, accuracy=50.6, loss=1.16]\n",
            "Epoch 18: 100%|██████████████████████████████████████████| 25/25 [00:00<00:00, 105.55batch/s, accuracy=50.8, loss=1.15]\n",
            "Epoch 19: 100%|██████████████████████████████████████████| 25/25 [00:00<00:00, 103.69batch/s, accuracy=51.4, loss=1.14]\n",
            "Epoch 20: 100%|█████████████████████████████████████████████| 25/25 [00:00<00:00, 99.30batch/s, accuracy=52, loss=1.13]\n",
            "Epoch 21: 100%|██████████████████████████████████████████| 25/25 [00:00<00:00, 106.04batch/s, accuracy=53.6, loss=1.12]\n",
            "Epoch 22: 100%|██████████████████████████████████████████| 25/25 [00:00<00:00, 111.73batch/s, accuracy=53.4, loss=1.11]\n",
            "Epoch 23: 100%|███████████████████████████████████████████| 25/25 [00:00<00:00, 105.13batch/s, accuracy=53.6, loss=1.1]\n",
            "Epoch 24: 100%|███████████████████████████████████████████| 25/25 [00:00<00:00, 109.94batch/s, accuracy=54.2, loss=1.1]\n",
            "Epoch 25: 100%|████████████████████████████████████████████| 25/25 [00:00<00:00, 104.90batch/s, accuracy=54, loss=1.09]\n",
            "Epoch 26: 100%|██████████████████████████████████████████| 25/25 [00:00<00:00, 115.86batch/s, accuracy=54.2, loss=1.08]\n",
            "Epoch 27: 100%|██████████████████████████████████████████| 25/25 [00:00<00:00, 108.34batch/s, accuracy=55.2, loss=1.07]\n",
            "Epoch 28: 100%|████████████████████████████████████████████| 25/25 [00:00<00:00, 114.27batch/s, accuracy=56, loss=1.07]\n",
            "Epoch 29: 100%|████████████████████████████████████████████| 25/25 [00:00<00:00, 107.60batch/s, accuracy=57, loss=1.06]\n",
            "Epoch 30: 100%|██████████████████████████████████████████| 25/25 [00:00<00:00, 105.06batch/s, accuracy=57.6, loss=1.05]\n",
            "Epoch 31: 100%|██████████████████████████████████████████| 25/25 [00:00<00:00, 113.74batch/s, accuracy=58.4, loss=1.04]\n",
            "Epoch 32: 100%|██████████████████████████████████████████| 25/25 [00:00<00:00, 110.00batch/s, accuracy=58.2, loss=1.04]\n",
            "Epoch 33: 100%|███████████████████████████████████████████| 25/25 [00:00<00:00, 96.25batch/s, accuracy=59.2, loss=1.03]\n",
            "Epoch 34: 100%|██████████████████████████████████████████| 25/25 [00:00<00:00, 109.76batch/s, accuracy=59.8, loss=1.02]\n",
            "Epoch 35: 100%|██████████████████████████████████████████| 25/25 [00:00<00:00, 106.46batch/s, accuracy=60.2, loss=1.02]\n",
            "Epoch 36: 100%|██████████████████████████████████████████| 25/25 [00:00<00:00, 120.32batch/s, accuracy=60.4, loss=1.01]\n",
            "Epoch 37: 100%|█████████████████████████████████████████████| 25/25 [00:00<00:00, 116.47batch/s, accuracy=61.4, loss=1]\n",
            "Epoch 38: 100%|█████████████████████████████████████████| 25/25 [00:00<00:00, 113.75batch/s, accuracy=61.6, loss=0.992]\n",
            "Epoch 39: 100%|█████████████████████████████████████████| 25/25 [00:00<00:00, 114.80batch/s, accuracy=61.4, loss=0.983]\n",
            "Epoch 40: 100%|█████████████████████████████████████████| 25/25 [00:00<00:00, 119.26batch/s, accuracy=62.2, loss=0.974]\n",
            "Epoch 41: 100%|███████████████████████████████████████████| 25/25 [00:00<00:00, 105.15batch/s, accuracy=63, loss=0.964]\n",
            "Epoch 42: 100%|█████████████████████████████████████████| 25/25 [00:00<00:00, 114.57batch/s, accuracy=63.2, loss=0.954]\n",
            "Epoch 43: 100%|█████████████████████████████████████████| 25/25 [00:00<00:00, 115.10batch/s, accuracy=63.8, loss=0.944]\n",
            "Epoch 44: 100%|█████████████████████████████████████████| 25/25 [00:00<00:00, 110.00batch/s, accuracy=63.2, loss=0.933]\n",
            "Epoch 45: 100%|█████████████████████████████████████████| 25/25 [00:00<00:00, 109.72batch/s, accuracy=64.2, loss=0.922]\n",
            "Epoch 46: 100%|██████████████████████████████████████████| 25/25 [00:00<00:00, 107.49batch/s, accuracy=64.6, loss=0.91]\n",
            "Epoch 47: 100%|██████████████████████████████████████████| 25/25 [00:00<00:00, 99.50batch/s, accuracy=65.2, loss=0.897]\n",
            "Epoch 48: 100%|█████████████████████████████████████████| 25/25 [00:00<00:00, 107.62batch/s, accuracy=66.2, loss=0.885]\n",
            "Epoch 49: 100%|███████████████████████████████████████████| 25/25 [00:00<00:00, 103.41batch/s, accuracy=66, loss=0.872]\n",
            "Epoch 50: 100%|█████████████████████████████████████████| 25/25 [00:00<00:00, 112.29batch/s, accuracy=67.6, loss=0.862]\n",
            "Epoch 51: 100%|█████████████████████████████████████████| 25/25 [00:00<00:00, 114.58batch/s, accuracy=68.8, loss=0.854]\n",
            "Epoch 52: 100%|█████████████████████████████████████████| 25/25 [00:00<00:00, 110.70batch/s, accuracy=68.2, loss=0.845]\n",
            "Epoch 53: 100%|█████████████████████████████████████████| 25/25 [00:00<00:00, 113.95batch/s, accuracy=68.6, loss=0.825]\n",
            "Epoch 54: 100%|█████████████████████████████████████████| 25/25 [00:00<00:00, 107.40batch/s, accuracy=69.6, loss=0.807]\n",
            "Epoch 55: 100%|█████████████████████████████████████████| 25/25 [00:00<00:00, 108.91batch/s, accuracy=69.6, loss=0.813]\n",
            "Epoch 56: 100%|█████████████████████████████████████████| 25/25 [00:00<00:00, 109.28batch/s, accuracy=70.6, loss=0.791]\n",
            "Epoch 57: 100%|█████████████████████████████████████████| 25/25 [00:00<00:00, 107.87batch/s, accuracy=71.6, loss=0.781]\n",
            "Epoch 58: 100%|███████████████████████████████████████████| 25/25 [00:00<00:00, 114.80batch/s, accuracy=67, loss=0.824]\n",
            "Epoch 59: 100%|██████████████████████████████████████████| 25/25 [00:00<00:00, 98.72batch/s, accuracy=68.6, loss=0.842]\n",
            "Epoch 60: 100%|█████████████████████████████████████████| 25/25 [00:00<00:00, 106.49batch/s, accuracy=68.6, loss=0.804]\n",
            "Epoch 61: 100%|█████████████████████████████████████████| 25/25 [00:00<00:00, 110.73batch/s, accuracy=70.2, loss=0.776]\n",
            "Epoch 62: 100%|█████████████████████████████████████████| 25/25 [00:00<00:00, 105.73batch/s, accuracy=72.6, loss=0.724]\n",
            "Epoch 63: 100%|███████████████████████████████████████████| 25/25 [00:00<00:00, 112.73batch/s, accuracy=72, loss=0.738]\n",
            "Epoch 64: 100%|█████████████████████████████████████████| 25/25 [00:00<00:00, 110.73batch/s, accuracy=73.4, loss=0.737]\n",
            "Epoch 65: 100%|█████████████████████████████████████████| 25/25 [00:00<00:00, 115.00batch/s, accuracy=73.4, loss=0.725]\n",
            "Epoch 66: 100%|██████████████████████████████████████████| 25/25 [00:00<00:00, 97.00batch/s, accuracy=74.4, loss=0.738]\n",
            "Epoch 67: 100%|█████████████████████████████████████████| 25/25 [00:00<00:00, 113.93batch/s, accuracy=73.6, loss=0.721]\n",
            "Epoch 68: 100%|███████████████████████████████████████████| 25/25 [00:00<00:00, 106.66batch/s, accuracy=72, loss=0.707]\n",
            "Epoch 69: 100%|███████████████████████████████████████████| 25/25 [00:00<00:00, 112.03batch/s, accuracy=74, loss=0.707]\n",
            "Epoch 70: 100%|█████████████████████████████████████████| 25/25 [00:00<00:00, 113.77batch/s, accuracy=76.2, loss=0.673]\n",
            "Epoch 71: 100%|█████████████████████████████████████████| 25/25 [00:00<00:00, 113.47batch/s, accuracy=74.4, loss=0.692]\n",
            "Epoch 72: 100%|█████████████████████████████████████████| 25/25 [00:00<00:00, 118.70batch/s, accuracy=75.4, loss=0.666]\n",
            "Epoch 73: 100%|███████████████████████████████████████████| 25/25 [00:00<00:00, 111.90batch/s, accuracy=71, loss=0.755]\n",
            "Epoch 74: 100%|███████████████████████████████████████████| 25/25 [00:00<00:00, 115.63batch/s, accuracy=73.4, loss=0.7]\n",
            "Epoch 75: 100%|█████████████████████████████████████████| 25/25 [00:00<00:00, 103.41batch/s, accuracy=73.8, loss=0.685]\n",
            "Epoch 76: 100%|█████████████████████████████████████████| 25/25 [00:00<00:00, 105.15batch/s, accuracy=64.2, loss=0.894]\n",
            "Epoch 77: 100%|███████████████████████████████████████████| 25/25 [00:00<00:00, 108.81batch/s, accuracy=72, loss=0.767]\n",
            "Epoch 78: 100%|█████████████████████████████████████████| 25/25 [00:00<00:00, 111.19batch/s, accuracy=77.2, loss=0.645]\n",
            "Epoch 79: 100%|█████████████████████████████████████████| 25/25 [00:00<00:00, 108.41batch/s, accuracy=79.6, loss=0.601]\n",
            "Epoch 80: 100%|███████████████████████████████████████████| 25/25 [00:00<00:00, 108.34batch/s, accuracy=81, loss=0.584]\n",
            "Epoch 81: 100%|█████████████████████████████████████████| 25/25 [00:00<00:00, 101.66batch/s, accuracy=81.2, loss=0.567]\n",
            "Epoch 82: 100%|█████████████████████████████████████████| 25/25 [00:00<00:00, 105.77batch/s, accuracy=83.6, loss=0.555]\n",
            "Epoch 83: 100%|███████████████████████████████████████████| 25/25 [00:00<00:00, 111.39batch/s, accuracy=79, loss=0.585]\n",
            "Epoch 84: 100%|████████████████████████████████████████████| 25/25 [00:00<00:00, 96.80batch/s, accuracy=66.2, loss=0.9]\n",
            "Epoch 85: 100%|█████████████████████████████████████████| 25/25 [00:00<00:00, 100.88batch/s, accuracy=75.8, loss=0.641]\n",
            "Epoch 86: 100%|███████████████████████████████████████████| 25/25 [00:00<00:00, 110.73batch/s, accuracy=78, loss=0.584]\n",
            "Epoch 87: 100%|█████████████████████████████████████████| 25/25 [00:00<00:00, 109.11batch/s, accuracy=80.2, loss=0.568]\n",
            "Epoch 88: 100%|█████████████████████████████████████████| 25/25 [00:00<00:00, 104.71batch/s, accuracy=80.2, loss=0.588]\n",
            "Epoch 89: 100%|█████████████████████████████████████████| 25/25 [00:00<00:00, 113.16batch/s, accuracy=80.8, loss=0.553]\n",
            "Epoch 90: 100%|█████████████████████████████████████████| 25/25 [00:00<00:00, 114.27batch/s, accuracy=82.2, loss=0.531]\n",
            "Epoch 91: 100%|█████████████████████████████████████████| 25/25 [00:00<00:00, 112.43batch/s, accuracy=77.8, loss=0.601]\n",
            "Epoch 92: 100%|██████████████████████████████████████████| 25/25 [00:00<00:00, 94.48batch/s, accuracy=73.6, loss=0.712]\n",
            "Epoch 93: 100%|██████████████████████████████████████████| 25/25 [00:00<00:00, 105.81batch/s, accuracy=80.6, loss=0.55]\n",
            "Epoch 94: 100%|██████████████████████████████████████████| 25/25 [00:00<00:00, 119.04batch/s, accuracy=84.4, loss=0.51]\n",
            "Epoch 95: 100%|█████████████████████████████████████████| 25/25 [00:00<00:00, 109.28batch/s, accuracy=78.2, loss=0.642]\n",
            "Epoch 96: 100%|█████████████████████████████████████████| 25/25 [00:00<00:00, 108.80batch/s, accuracy=77.8, loss=0.593]\n",
            "Epoch 97: 100%|█████████████████████████████████████████| 25/25 [00:00<00:00, 112.10batch/s, accuracy=80.2, loss=0.547]\n",
            "Epoch 98: 100%|█████████████████████████████████████████| 25/25 [00:00<00:00, 110.24batch/s, accuracy=86.4, loss=0.464]\n",
            "Epoch 99: 100%|█████████████████████████████████████████| 25/25 [00:00<00:00, 104.27batch/s, accuracy=86.6, loss=0.455]\n"
          ]
        }
      ]
    },
    {
      "cell_type": "markdown",
      "source": [
        "## Step 3: select best lr\n",
        "\n",
        "Train all data for one epoch"
      ],
      "metadata": {
        "id": "BLT4w0ZfAhlJ"
      }
    },
    {
      "cell_type": "code",
      "source": [
        "num_epochs = 5\n",
        "for lr in [0.9, 0.5, 0.2, 0.1, 0.01, 0.001]:\n",
        "  print(f'LR={lr}')\n",
        "  model = RNNModel(9, 32, 4, False, 6).to(device)\n",
        "  optimizer = optim.SGD(model.parameters(), lr=lr, weight_decay=1e-4, momentum=0.9)\n",
        "  for epoch in range(num_epochs):\n",
        "    model, _, _ = train_one_epoch(model, train_loader, loss_fn, optimizer, epoch)\n",
        "  print()"
      ],
      "metadata": {
        "id": "c7tlXlY4_Dwi",
        "colab": {
          "base_uri": "https://localhost:8080/"
        },
        "outputId": "346552f8-f6b1-4fd5-a624-87e099e72b0d"
      },
      "execution_count": null,
      "outputs": [
        {
          "output_type": "stream",
          "name": "stdout",
          "text": [
            "LR=0.9\n"
          ]
        },
        {
          "output_type": "stream",
          "name": "stderr",
          "text": [
            "Epoch 0: 100%|██████████| 115/115 [00:07<00:00, 15.24batch/s, accuracy=38.3, loss=1.49]\n",
            "Epoch 1: 100%|██████████| 115/115 [00:07<00:00, 15.36batch/s, accuracy=35, loss=1.68]\n",
            "Epoch 2: 100%|██████████| 115/115 [00:07<00:00, 15.32batch/s, accuracy=38.8, loss=1.58]\n",
            "Epoch 3: 100%|██████████| 115/115 [00:07<00:00, 15.02batch/s, accuracy=37.2, loss=1.48]\n",
            "Epoch 4: 100%|██████████| 115/115 [00:07<00:00, 15.22batch/s, accuracy=37.4, loss=2.48]\n"
          ]
        },
        {
          "output_type": "stream",
          "name": "stdout",
          "text": [
            "\n",
            "LR=0.5\n"
          ]
        },
        {
          "output_type": "stream",
          "name": "stderr",
          "text": [
            "Epoch 0: 100%|██████████| 115/115 [00:09<00:00, 12.42batch/s, accuracy=34, loss=1.48]\n",
            "Epoch 1: 100%|██████████| 115/115 [00:07<00:00, 15.08batch/s, accuracy=35.3, loss=1.4]\n",
            "Epoch 2: 100%|██████████| 115/115 [00:07<00:00, 15.06batch/s, accuracy=41.8, loss=1.26]\n",
            "Epoch 3: 100%|██████████| 115/115 [00:07<00:00, 15.14batch/s, accuracy=41.8, loss=1.28]\n",
            "Epoch 4: 100%|██████████| 115/115 [00:07<00:00, 14.95batch/s, accuracy=37.3, loss=1.55]\n"
          ]
        },
        {
          "output_type": "stream",
          "name": "stdout",
          "text": [
            "\n",
            "LR=0.2\n"
          ]
        },
        {
          "output_type": "stream",
          "name": "stderr",
          "text": [
            "Epoch 0: 100%|██████████| 115/115 [00:07<00:00, 15.34batch/s, accuracy=54.7, loss=1.09]\n",
            "Epoch 1: 100%|██████████| 115/115 [00:07<00:00, 15.19batch/s, accuracy=77, loss=0.585]\n",
            "Epoch 2: 100%|██████████| 115/115 [00:07<00:00, 15.14batch/s, accuracy=84.5, loss=0.469]\n",
            "Epoch 3: 100%|██████████| 115/115 [00:07<00:00, 15.10batch/s, accuracy=87.3, loss=0.379]\n",
            "Epoch 4: 100%|██████████| 115/115 [00:07<00:00, 15.07batch/s, accuracy=89.2, loss=0.34]\n"
          ]
        },
        {
          "output_type": "stream",
          "name": "stdout",
          "text": [
            "\n",
            "LR=0.1\n"
          ]
        },
        {
          "output_type": "stream",
          "name": "stderr",
          "text": [
            "Epoch 0: 100%|██████████| 115/115 [00:07<00:00, 15.14batch/s, accuracy=37.6, loss=1.37]\n",
            "Epoch 1: 100%|██████████| 115/115 [00:07<00:00, 15.08batch/s, accuracy=64.3, loss=0.838]\n",
            "Epoch 2: 100%|██████████| 115/115 [00:07<00:00, 14.87batch/s, accuracy=80.3, loss=0.542]\n",
            "Epoch 3: 100%|██████████| 115/115 [00:07<00:00, 15.16batch/s, accuracy=84.7, loss=0.427]\n",
            "Epoch 4: 100%|██████████| 115/115 [00:07<00:00, 15.02batch/s, accuracy=88.6, loss=0.316]\n"
          ]
        },
        {
          "output_type": "stream",
          "name": "stdout",
          "text": [
            "\n",
            "LR=0.01\n"
          ]
        },
        {
          "output_type": "stream",
          "name": "stderr",
          "text": [
            "Epoch 0: 100%|██████████| 115/115 [00:07<00:00, 15.10batch/s, accuracy=35.5, loss=1.46]\n",
            "Epoch 1: 100%|██████████| 115/115 [00:07<00:00, 15.13batch/s, accuracy=48.2, loss=1.16]\n",
            "Epoch 2: 100%|██████████| 115/115 [00:07<00:00, 15.18batch/s, accuracy=53, loss=1.04]\n",
            "Epoch 3: 100%|██████████| 115/115 [00:07<00:00, 14.99batch/s, accuracy=56.4, loss=1]\n",
            "Epoch 4: 100%|██████████| 115/115 [00:07<00:00, 14.81batch/s, accuracy=59.6, loss=0.944]\n"
          ]
        },
        {
          "output_type": "stream",
          "name": "stdout",
          "text": [
            "\n",
            "LR=0.001\n"
          ]
        },
        {
          "output_type": "stream",
          "name": "stderr",
          "text": [
            "Epoch 0: 100%|██████████| 115/115 [00:07<00:00, 15.16batch/s, accuracy=18.7, loss=1.8]\n",
            "Epoch 1: 100%|██████████| 115/115 [00:07<00:00, 15.24batch/s, accuracy=30.3, loss=1.77]\n",
            "Epoch 2: 100%|██████████| 115/115 [00:07<00:00, 15.13batch/s, accuracy=37.1, loss=1.72]\n",
            "Epoch 3: 100%|██████████| 115/115 [00:07<00:00, 15.11batch/s, accuracy=37.3, loss=1.49]\n",
            "Epoch 4: 100%|██████████| 115/115 [00:07<00:00, 15.05batch/s, accuracy=39, loss=1.37]"
          ]
        },
        {
          "output_type": "stream",
          "name": "stdout",
          "text": [
            "\n"
          ]
        },
        {
          "output_type": "stream",
          "name": "stderr",
          "text": [
            "\n"
          ]
        }
      ]
    },
    {
      "cell_type": "markdown",
      "source": [
        "## Step 4: small grid (optional)\n",
        "\n",
        "Create a small grid based on the WD and the best LR\n",
        "\n"
      ],
      "metadata": {
        "id": "uC2GhaXfA8vC"
      }
    },
    {
      "cell_type": "code",
      "source": [
        "num_epochs = 5\n",
        "\n",
        "for lr in [0.08, 0.09, 0.1, 0.15, 0.2]:\n",
        "  for wd in [1e-4, 1e-5, 0.]:\n",
        "    model = RNNModel(9, 128, 1, True, 6).to(device)\n",
        "    optimizer = optim.SGD(model.parameters(), lr=lr, weight_decay=wd)\n",
        "    print(f'LR={lr}, WD={wd}')\n",
        "\n",
        "    for epoch in range(num_epochs):\n",
        "      model, loss, _ = train_one_epoch(model, train_loader, loss_fn, optimizer, epoch)\n",
        "    print()"
      ],
      "metadata": {
        "id": "yIta-JKgA7-I"
      },
      "execution_count": null,
      "outputs": []
    },
    {
      "cell_type": "markdown",
      "source": [
        "## Step 5: train more epochs"
      ],
      "metadata": {
        "id": "oBW2SLfEEkCp"
      }
    },
    {
      "cell_type": "code",
      "source": [
        "model = RNNModel(9, 32, 4, False, 6).to(device)"
      ],
      "metadata": {
        "id": "pCCY2WecCyyg"
      },
      "execution_count": null,
      "outputs": []
    },
    {
      "cell_type": "code",
      "source": [
        "lr = 0.1\n",
        "wd = 1e-4\n",
        "optimizer = optim.SGD(model.parameters(), lr=lr, weight_decay=wd, momentum=0.9)"
      ],
      "metadata": {
        "id": "bowjVB5yIXUP"
      },
      "execution_count": null,
      "outputs": []
    },
    {
      "cell_type": "code",
      "source": [
        "loss_train_hist = []\n",
        "loss_valid_hist = []\n",
        "\n",
        "acc_train_hist = []\n",
        "acc_valid_hist = []\n",
        "\n",
        "best_loss_valid = torch.inf\n",
        "epoch_counter = 0"
      ],
      "metadata": {
        "id": "FIrBCdHBIeRb"
      },
      "execution_count": null,
      "outputs": []
    },
    {
      "cell_type": "code",
      "source": [
        "num_epochs = 10\n",
        "\n",
        "for epoch in range(num_epochs):\n",
        "  # Train\n",
        "  model, loss_train, acc_train = train_one_epoch(model,\n",
        "                                                 train_loader,\n",
        "                                                 loss_fn,\n",
        "                                                 optimizer,\n",
        "                                                 epoch)\n",
        "  # Validation\n",
        "  loss_valid, acc_valid = validation(model,\n",
        "                                     test_loader,\n",
        "                                     loss_fn)\n",
        "\n",
        "  loss_train_hist.append(loss_train)\n",
        "  loss_valid_hist.append(loss_valid)\n",
        "\n",
        "  acc_train_hist.append(acc_train)\n",
        "  acc_valid_hist.append(acc_valid)\n",
        "\n",
        "  if loss_valid < best_loss_valid:\n",
        "    torch.save(model, f'model.pt')\n",
        "    best_loss_valid = loss_valid\n",
        "\n",
        "  print(f'Valid: Loss = {loss_valid:.4}, Acc = {acc_valid:.4}')\n",
        "  print()\n",
        "\n",
        "  epoch_counter += 1"
      ],
      "metadata": {
        "id": "CAXagB4yvtZd",
        "colab": {
          "base_uri": "https://localhost:8080/"
        },
        "outputId": "0349db13-894c-418e-a01a-6205c321c068"
      },
      "execution_count": null,
      "outputs": [
        {
          "output_type": "stream",
          "name": "stderr",
          "text": [
            "Epoch 0: 100%|██████████| 79/79 [00:05<00:00, 15.05batch/s, accuracy=32.2, loss=1.53]\n"
          ]
        },
        {
          "output_type": "stream",
          "name": "stdout",
          "text": [
            "Valid: Loss = 1.339, Acc = 0.3414\n",
            "\n"
          ]
        },
        {
          "output_type": "stream",
          "name": "stderr",
          "text": [
            "Epoch 1: 100%|██████████| 79/79 [00:06<00:00, 11.81batch/s, accuracy=41.8, loss=1.32]\n"
          ]
        },
        {
          "output_type": "stream",
          "name": "stdout",
          "text": [
            "Valid: Loss = 1.097, Acc = 0.4809\n",
            "\n"
          ]
        },
        {
          "output_type": "stream",
          "name": "stderr",
          "text": [
            "Epoch 2: 100%|██████████| 79/79 [00:05<00:00, 15.19batch/s, accuracy=53.9, loss=1.13]\n"
          ]
        },
        {
          "output_type": "stream",
          "name": "stdout",
          "text": [
            "Valid: Loss = 0.8032, Acc = 0.6352\n",
            "\n"
          ]
        },
        {
          "output_type": "stream",
          "name": "stderr",
          "text": [
            "Epoch 3: 100%|██████████| 79/79 [00:05<00:00, 14.77batch/s, accuracy=63.7, loss=0.899]\n"
          ]
        },
        {
          "output_type": "stream",
          "name": "stdout",
          "text": [
            "Valid: Loss = 0.7035, Acc = 0.5519\n",
            "\n"
          ]
        },
        {
          "output_type": "stream",
          "name": "stderr",
          "text": [
            "Epoch 4: 100%|██████████| 79/79 [00:05<00:00, 15.18batch/s, accuracy=65.5, loss=1.03]\n"
          ]
        },
        {
          "output_type": "stream",
          "name": "stdout",
          "text": [
            "Valid: Loss = 0.9089, Acc = 0.4804\n",
            "\n"
          ]
        },
        {
          "output_type": "stream",
          "name": "stderr",
          "text": [
            "Epoch 5: 100%|██████████| 79/79 [00:05<00:00, 15.21batch/s, accuracy=79.6, loss=0.62]\n"
          ]
        },
        {
          "output_type": "stream",
          "name": "stdout",
          "text": [
            "Valid: Loss = 0.4143, Acc = 0.869\n",
            "\n"
          ]
        },
        {
          "output_type": "stream",
          "name": "stderr",
          "text": [
            "Epoch 6: 100%|██████████| 79/79 [00:05<00:00, 15.09batch/s, accuracy=82.1, loss=0.569]\n"
          ]
        },
        {
          "output_type": "stream",
          "name": "stdout",
          "text": [
            "Valid: Loss = 1.114, Acc = 0.7653\n",
            "\n"
          ]
        },
        {
          "output_type": "stream",
          "name": "stderr",
          "text": [
            "Epoch 7: 100%|██████████| 79/79 [00:05<00:00, 15.03batch/s, accuracy=86, loss=0.439]\n"
          ]
        },
        {
          "output_type": "stream",
          "name": "stdout",
          "text": [
            "Valid: Loss = 0.4575, Acc = 0.8554\n",
            "\n"
          ]
        },
        {
          "output_type": "stream",
          "name": "stderr",
          "text": [
            "Epoch 8: 100%|██████████| 79/79 [00:05<00:00, 15.11batch/s, accuracy=86.9, loss=0.392]\n"
          ]
        },
        {
          "output_type": "stream",
          "name": "stdout",
          "text": [
            "Valid: Loss = 0.568, Acc = 0.7704\n",
            "\n"
          ]
        },
        {
          "output_type": "stream",
          "name": "stderr",
          "text": [
            "Epoch 9: 100%|██████████| 79/79 [00:05<00:00, 15.30batch/s, accuracy=88.2, loss=0.448]\n"
          ]
        },
        {
          "output_type": "stream",
          "name": "stdout",
          "text": [
            "Valid: Loss = 0.6388, Acc = 0.7164\n",
            "\n"
          ]
        }
      ]
    },
    {
      "cell_type": "markdown",
      "source": [
        "## Debug"
      ],
      "metadata": {
        "id": "UD-SHamR1aWU"
      }
    },
    {
      "cell_type": "code",
      "source": [
        "with torch.no_grad():\n",
        "  yp = model(train_set.dataset.tensors[0])\n",
        "  print((yp.argmax(dim=1) == y_train).sum())"
      ],
      "metadata": {
        "id": "MM5vtEp_zXVP"
      },
      "execution_count": null,
      "outputs": []
    },
    {
      "cell_type": "code",
      "source": [
        "test_set = TensorDataset(x_test, y_test)\n",
        "test_loader = DataLoader(test_set, batch_size=128, shuffle=False)\n",
        "with torch.no_grad():\n",
        "  yp = model(test_set.tensors[0])\n",
        "  print((yp.argmax(dim=1) == y_test).sum())"
      ],
      "metadata": {
        "colab": {
          "base_uri": "https://localhost:8080/"
        },
        "id": "mj4hm4_CyIWM",
        "outputId": "528cb10e-3377-46ad-bb4e-851cc3b66602"
      },
      "execution_count": null,
      "outputs": [
        {
          "output_type": "stream",
          "name": "stdout",
          "text": [
            "tensor(111)\n"
          ]
        }
      ]
    },
    {
      "cell_type": "code",
      "source": [
        "yp, yp.argmax(dim=1).unique(), (yp.argmax(dim=1) == 5).sum()"
      ],
      "metadata": {
        "colab": {
          "base_uri": "https://localhost:8080/"
        },
        "id": "DH7Yuwt61OCX",
        "outputId": "b4791a32-e272-411d-ffcb-a5c91c62a1e5"
      },
      "execution_count": null,
      "outputs": [
        {
          "output_type": "execute_result",
          "data": {
            "text/plain": [
              "(tensor([[-2.9889, -1.6670,  6.3823, -2.3654, -7.5674, 10.1449],\n",
              "         [-2.9867, -1.6417,  6.3843, -2.3867, -7.5678, 10.1330],\n",
              "         [-2.9869, -1.6260,  6.3837, -2.3994, -7.5675, 10.1279],\n",
              "         ...,\n",
              "         [-2.9525, -1.4453,  6.4369, -2.5618, -7.5876, 10.0198],\n",
              "         [-2.9579, -1.3969,  6.4219, -2.5962, -7.5806, 10.0092],\n",
              "         [-2.9580, -1.4164,  6.4295, -2.5838, -7.5857, 10.0183]]),\n",
              " tensor([1, 2, 3, 4, 5]),\n",
              " tensor(2502))"
            ]
          },
          "metadata": {},
          "execution_count": 102
        }
      ]
    },
    {
      "cell_type": "code",
      "source": [
        "x_test[0], x_test[100]"
      ],
      "metadata": {
        "colab": {
          "base_uri": "https://localhost:8080/"
        },
        "id": "BeYrpVXQy8GF",
        "outputId": "f4106ead-7dd4-4515-cc2d-e3bd7c7d83e5"
      },
      "execution_count": null,
      "outputs": [
        {
          "output_type": "execute_result",
          "data": {
            "text/plain": [
              "(tensor([[ 1.0412, -0.0294,  0.4375,  ..., -0.2698,  0.0117,  0.1068],\n",
              "         [ 1.0418, -0.0397,  0.4683,  ..., -0.2800,  0.0131,  0.1525],\n",
              "         [ 1.0391, -0.0524,  0.4983,  ..., -0.2927,  0.0113,  0.2168],\n",
              "         ...,\n",
              "         [ 0.9930,  0.0117, -0.0051,  ..., -0.2600,  0.0013,  0.0037],\n",
              "         [ 0.9932,  0.0095, -0.0204,  ..., -0.2621,  0.0015,  0.0040],\n",
              "         [ 0.9944,  0.0073, -0.0300,  ..., -0.2641,  0.0026,  0.0049]]),\n",
              " tensor([[ 0.9057, -0.1842,  0.4645,  ..., -0.5164, -0.0819, -0.0589],\n",
              "         [ 0.8388, -0.1049,  0.5207,  ..., -0.4373, -0.1489, -0.0458],\n",
              "         [ 0.7889, -0.0401,  0.4872,  ..., -0.3727, -0.1988, -0.0413],\n",
              "         ...,\n",
              "         [ 1.0765,  0.1580,  0.1119,  ..., -0.1721,  0.0872,  0.0252],\n",
              "         [ 1.0244,  0.1704,  0.0200,  ..., -0.1598,  0.0352,  0.0759],\n",
              "         [ 1.0337,  0.1284,  0.0018,  ..., -0.2019,  0.0445,  0.1028]]))"
            ]
          },
          "metadata": {},
          "execution_count": 100
        }
      ]
    },
    {
      "cell_type": "markdown",
      "source": [
        "# **Plot**"
      ],
      "metadata": {
        "id": "oK20iNRI3Xxb"
      }
    },
    {
      "cell_type": "code",
      "source": [
        "plt.plot(range(epoch_counter), loss_train_hist, 'r-', label='Train')\n",
        "plt.plot(range(epoch_counter), loss_valid_hist, 'b-', label='Validation')\n",
        "\n",
        "plt.xlabel('Epoch')\n",
        "plt.ylabel('loss')\n",
        "plt.grid(True)\n",
        "plt.legend()"
      ],
      "metadata": {
        "id": "KYFzTsdIOkVp"
      },
      "execution_count": null,
      "outputs": []
    },
    {
      "cell_type": "code",
      "source": [
        "plt.plot(range(epoch_counter), acc_train_hist, 'r-', label='Train')\n",
        "plt.plot(range(epoch_counter), acc_valid_hist, 'b-', label='Validation')\n",
        "\n",
        "plt.xlabel('Epoch')\n",
        "plt.ylabel('Acc')\n",
        "plt.grid(True)\n",
        "plt.legend()"
      ],
      "metadata": {
        "id": "dUgt-mWsOqhB"
      },
      "execution_count": null,
      "outputs": []
    }
  ]
}